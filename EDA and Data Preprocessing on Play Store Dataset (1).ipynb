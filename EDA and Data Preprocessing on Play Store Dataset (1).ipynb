{
 "cells": [
  {
   "cell_type": "markdown",
   "id": "3978362e",
   "metadata": {},
   "source": [
    "## EDA & Data Preprocessing on Google App Store Rating Dataset"
   ]
  },
  {
   "cell_type": "markdown",
   "id": "24990d0a",
   "metadata": {},
   "source": [
    "**Domain:** Mobile device apps\n",
    "\n",
    "**Context:**\n",
    "The Play Store apps data has enormous potential to drive app-making businesses to success. However, many\n",
    "apps are being developed every single day and only a few of them become profitable. It is important for\n",
    "developers to be able to predict the success of their app and incorporate features which makes an app\n",
    "successful. Before any such predictive-study can be done, it is necessary to do EDA and data-preprocessing on\n",
    "the apps data available for google app store applications. From the collected apps data and user ratings from\n",
    "the app stores, let's try to extract insightful information.\n",
    "\n",
    "**Data set Information:**\n",
    "Web scraped data of 10k Play Store apps for analyzing the Android market. Each app (row) has values for\n",
    "category, rating, size, and more.\n",
    "\n",
    "**Attribute Information:**\n",
    "\n",
    "**Attribute  Description**\n",
    "\n",
    "**1. App :** Application name\n",
    "\n",
    "**2. Category :** Category the app belongs to.\n",
    "\n",
    "**3. Rating :** Overall user rating of the app\n",
    "\n",
    "**4. Size :** Size of the app\n",
    "\n",
    "**5. Installs :** Number of user reviews for the app\n",
    "\n",
    "**6. Type :** Paid or Free\n",
    "\n",
    "**7. Price :** Price of the app\n",
    "\n",
    "**8. Content Rating :** Age group the app is targeted at - children/Mature 21+ /Adult\n",
    "\n",
    "**9. Genres :** An app can belong to multiple genres (apart from its main category). For eg. a musical family game will belong to Music, Game, Family genres.\n",
    "\n",
    "**10. Last Updated :** Date when the app was last updated on play store.\n",
    "\n",
    "**11. Current Ver :** Current version of the app available on play store.\n",
    "\n",
    "**12. Android Ver :** Min required Android Version."
   ]
  },
  {
   "cell_type": "markdown",
   "id": "b4e1bc38",
   "metadata": {},
   "source": [
    "## Importing required libraries and read the dataset"
   ]
  },
  {
   "cell_type": "markdown",
   "id": "138d5890",
   "metadata": {},
   "source": [
    "**Importing the required libraries**"
   ]
  },
  {
   "cell_type": "code",
   "execution_count": 1,
   "id": "1044636d",
   "metadata": {},
   "outputs": [],
   "source": [
    "#Importing the required Libraries\n",
    "import pandas as pd\n",
    "import numpy as np \n",
    "import matplotlib.pyplot as plt\n",
    "import seaborn as sns\n",
    "from sklearn.preprocessing import LabelEncoder\n",
    "from sklearn.model_selection import train_test_split\n",
    "from sklearn.preprocessing import MinMaxScaler\n",
    "import warnings\n",
    "warnings.filterwarnings(\"ignore\")\n",
    "from PIL import Image \n",
    "from IPython.display import display, HTML"
   ]
  },
  {
   "cell_type": "code",
   "execution_count": 2,
   "id": "c6461e35",
   "metadata": {},
   "outputs": [],
   "source": [
    "pd.set_option('display.float_format', lambda x: '%.2f' % x)"
   ]
  },
  {
   "cell_type": "markdown",
   "id": "3133a31c",
   "metadata": {},
   "source": [
    "**Reading the dataset**"
   ]
  },
  {
   "cell_type": "code",
   "execution_count": 3,
   "id": "4d732bf2",
   "metadata": {},
   "outputs": [],
   "source": [
    "data = pd.read_csv('Apps_data+(1).csv')"
   ]
  },
  {
   "cell_type": "markdown",
   "id": "acde7069",
   "metadata": {},
   "source": [
    "## Checking the first few samples, shape and info of the data"
   ]
  },
  {
   "cell_type": "markdown",
   "id": "f2856006",
   "metadata": {},
   "source": [
    "**Checking the first 5 samples of the data useing the .head() method**"
   ]
  },
  {
   "cell_type": "code",
   "execution_count": 4,
   "id": "9d27242d",
   "metadata": {
    "scrolled": true
   },
   "outputs": [
    {
     "data": {
      "text/html": [
       "<div>\n",
       "<style scoped>\n",
       "    .dataframe tbody tr th:only-of-type {\n",
       "        vertical-align: middle;\n",
       "    }\n",
       "\n",
       "    .dataframe tbody tr th {\n",
       "        vertical-align: top;\n",
       "    }\n",
       "\n",
       "    .dataframe thead th {\n",
       "        text-align: right;\n",
       "    }\n",
       "</style>\n",
       "<table border=\"1\" class=\"dataframe\">\n",
       "  <thead>\n",
       "    <tr style=\"text-align: right;\">\n",
       "      <th></th>\n",
       "      <th>App</th>\n",
       "      <th>Category</th>\n",
       "      <th>Rating</th>\n",
       "      <th>Reviews</th>\n",
       "      <th>Size</th>\n",
       "      <th>Installs</th>\n",
       "      <th>Type</th>\n",
       "      <th>Price</th>\n",
       "      <th>Content Rating</th>\n",
       "      <th>Genres</th>\n",
       "      <th>Last Updated</th>\n",
       "      <th>Current Ver</th>\n",
       "      <th>Android Ver</th>\n",
       "    </tr>\n",
       "  </thead>\n",
       "  <tbody>\n",
       "    <tr>\n",
       "      <th>0</th>\n",
       "      <td>Photo Editor &amp; Candy Camera &amp; Grid &amp; ScrapBook</td>\n",
       "      <td>ART_AND_DESIGN</td>\n",
       "      <td>4.10</td>\n",
       "      <td>159</td>\n",
       "      <td>19M</td>\n",
       "      <td>10,000+</td>\n",
       "      <td>Free</td>\n",
       "      <td>0</td>\n",
       "      <td>Everyone</td>\n",
       "      <td>Art &amp; Design</td>\n",
       "      <td>January 7, 2018</td>\n",
       "      <td>1.0.0</td>\n",
       "      <td>4.0.3 and up</td>\n",
       "    </tr>\n",
       "    <tr>\n",
       "      <th>1</th>\n",
       "      <td>Coloring book moana</td>\n",
       "      <td>ART_AND_DESIGN</td>\n",
       "      <td>3.90</td>\n",
       "      <td>967</td>\n",
       "      <td>14M</td>\n",
       "      <td>500,000+</td>\n",
       "      <td>Free</td>\n",
       "      <td>0</td>\n",
       "      <td>Everyone</td>\n",
       "      <td>Art &amp; Design;Pretend Play</td>\n",
       "      <td>January 15, 2018</td>\n",
       "      <td>2.0.0</td>\n",
       "      <td>4.0.3 and up</td>\n",
       "    </tr>\n",
       "    <tr>\n",
       "      <th>2</th>\n",
       "      <td>U Launcher Lite – FREE Live Cool Themes, Hide ...</td>\n",
       "      <td>ART_AND_DESIGN</td>\n",
       "      <td>4.70</td>\n",
       "      <td>87510</td>\n",
       "      <td>8.7M</td>\n",
       "      <td>5,000,000+</td>\n",
       "      <td>Free</td>\n",
       "      <td>0</td>\n",
       "      <td>Everyone</td>\n",
       "      <td>Art &amp; Design</td>\n",
       "      <td>August 1, 2018</td>\n",
       "      <td>1.2.4</td>\n",
       "      <td>4.0.3 and up</td>\n",
       "    </tr>\n",
       "    <tr>\n",
       "      <th>3</th>\n",
       "      <td>Sketch - Draw &amp; Paint</td>\n",
       "      <td>ART_AND_DESIGN</td>\n",
       "      <td>4.50</td>\n",
       "      <td>215644</td>\n",
       "      <td>25M</td>\n",
       "      <td>50,000,000+</td>\n",
       "      <td>Free</td>\n",
       "      <td>0</td>\n",
       "      <td>Teen</td>\n",
       "      <td>Art &amp; Design</td>\n",
       "      <td>June 8, 2018</td>\n",
       "      <td>Varies with device</td>\n",
       "      <td>4.2 and up</td>\n",
       "    </tr>\n",
       "    <tr>\n",
       "      <th>4</th>\n",
       "      <td>Pixel Draw - Number Art Coloring Book</td>\n",
       "      <td>ART_AND_DESIGN</td>\n",
       "      <td>4.30</td>\n",
       "      <td>967</td>\n",
       "      <td>2.8M</td>\n",
       "      <td>100,000+</td>\n",
       "      <td>Free</td>\n",
       "      <td>0</td>\n",
       "      <td>Everyone</td>\n",
       "      <td>Art &amp; Design;Creativity</td>\n",
       "      <td>June 20, 2018</td>\n",
       "      <td>1.1</td>\n",
       "      <td>4.4 and up</td>\n",
       "    </tr>\n",
       "  </tbody>\n",
       "</table>\n",
       "</div>"
      ],
      "text/plain": [
       "                                                 App        Category  Rating  \\\n",
       "0     Photo Editor & Candy Camera & Grid & ScrapBook  ART_AND_DESIGN    4.10   \n",
       "1                                Coloring book moana  ART_AND_DESIGN    3.90   \n",
       "2  U Launcher Lite – FREE Live Cool Themes, Hide ...  ART_AND_DESIGN    4.70   \n",
       "3                              Sketch - Draw & Paint  ART_AND_DESIGN    4.50   \n",
       "4              Pixel Draw - Number Art Coloring Book  ART_AND_DESIGN    4.30   \n",
       "\n",
       "  Reviews  Size     Installs  Type Price Content Rating  \\\n",
       "0     159   19M      10,000+  Free     0       Everyone   \n",
       "1     967   14M     500,000+  Free     0       Everyone   \n",
       "2   87510  8.7M   5,000,000+  Free     0       Everyone   \n",
       "3  215644   25M  50,000,000+  Free     0           Teen   \n",
       "4     967  2.8M     100,000+  Free     0       Everyone   \n",
       "\n",
       "                      Genres      Last Updated         Current Ver  \\\n",
       "0               Art & Design   January 7, 2018               1.0.0   \n",
       "1  Art & Design;Pretend Play  January 15, 2018               2.0.0   \n",
       "2               Art & Design    August 1, 2018               1.2.4   \n",
       "3               Art & Design      June 8, 2018  Varies with device   \n",
       "4    Art & Design;Creativity     June 20, 2018                 1.1   \n",
       "\n",
       "    Android Ver  \n",
       "0  4.0.3 and up  \n",
       "1  4.0.3 and up  \n",
       "2  4.0.3 and up  \n",
       "3    4.2 and up  \n",
       "4    4.4 and up  "
      ]
     },
     "metadata": {},
     "output_type": "display_data"
    }
   ],
   "source": [
    "display(data.head())"
   ]
  },
  {
   "cell_type": "markdown",
   "id": "e5f06e16",
   "metadata": {},
   "source": [
    "**Checking the shape of the data using .shape**"
   ]
  },
  {
   "cell_type": "code",
   "execution_count": 5,
   "id": "3669eb69",
   "metadata": {
    "scrolled": false
   },
   "outputs": [
    {
     "data": {
      "text/plain": [
       "(10841, 13)"
      ]
     },
     "execution_count": 5,
     "metadata": {},
     "output_type": "execute_result"
    }
   ],
   "source": [
    "data.shape"
   ]
  },
  {
   "cell_type": "markdown",
   "id": "1bd6d42b",
   "metadata": {},
   "source": [
    "**We can see that the data has 10841 rows and 13 columns**"
   ]
  },
  {
   "cell_type": "markdown",
   "id": "de0808b8",
   "metadata": {},
   "source": [
    "**Checking the info using method .info()**"
   ]
  },
  {
   "cell_type": "code",
   "execution_count": 6,
   "id": "c4f5f9ed",
   "metadata": {
    "scrolled": true
   },
   "outputs": [
    {
     "name": "stdout",
     "output_type": "stream",
     "text": [
      "<class 'pandas.core.frame.DataFrame'>\n",
      "RangeIndex: 10841 entries, 0 to 10840\n",
      "Data columns (total 13 columns):\n",
      " #   Column          Non-Null Count  Dtype  \n",
      "---  ------          --------------  -----  \n",
      " 0   App             10841 non-null  object \n",
      " 1   Category        10841 non-null  object \n",
      " 2   Rating          9367 non-null   float64\n",
      " 3   Reviews         10841 non-null  object \n",
      " 4   Size            10841 non-null  object \n",
      " 5   Installs        10841 non-null  object \n",
      " 6   Type            10840 non-null  object \n",
      " 7   Price           10841 non-null  object \n",
      " 8   Content Rating  10840 non-null  object \n",
      " 9   Genres          10841 non-null  object \n",
      " 10  Last Updated    10841 non-null  object \n",
      " 11  Current Ver     10833 non-null  object \n",
      " 12  Android Ver     10838 non-null  object \n",
      "dtypes: float64(1), object(12)\n",
      "memory usage: 1.1+ MB\n"
     ]
    }
   ],
   "source": [
    "data.info()"
   ]
  },
  {
   "cell_type": "markdown",
   "id": "79651f7e",
   "metadata": {},
   "source": [
    "* **We can see that the original data has 12 features which are of object data type and 1 feature(Ratings Category) which is of float data type.**\n",
    "* **Rating, Type, Content Rating, Current Ver and Android Ver are the features which have 1 or more null values.**"
   ]
  },
  {
   "cell_type": "markdown",
   "id": "5ef2bd7c",
   "metadata": {},
   "source": [
    "## Summary statistics of the dataset."
   ]
  },
  {
   "cell_type": "markdown",
   "id": "70dc5345",
   "metadata": {},
   "source": [
    "**Summary statistics of the dataset can be known by using the method .describe()**"
   ]
  },
  {
   "cell_type": "code",
   "execution_count": 7,
   "id": "315290fc",
   "metadata": {
    "scrolled": true
   },
   "outputs": [
    {
     "data": {
      "text/html": [
       "<div>\n",
       "<style scoped>\n",
       "    .dataframe tbody tr th:only-of-type {\n",
       "        vertical-align: middle;\n",
       "    }\n",
       "\n",
       "    .dataframe tbody tr th {\n",
       "        vertical-align: top;\n",
       "    }\n",
       "\n",
       "    .dataframe thead th {\n",
       "        text-align: right;\n",
       "    }\n",
       "</style>\n",
       "<table border=\"1\" class=\"dataframe\">\n",
       "  <thead>\n",
       "    <tr style=\"text-align: right;\">\n",
       "      <th></th>\n",
       "      <th>Rating</th>\n",
       "    </tr>\n",
       "  </thead>\n",
       "  <tbody>\n",
       "    <tr>\n",
       "      <th>count</th>\n",
       "      <td>9367.00</td>\n",
       "    </tr>\n",
       "    <tr>\n",
       "      <th>mean</th>\n",
       "      <td>4.19</td>\n",
       "    </tr>\n",
       "    <tr>\n",
       "      <th>std</th>\n",
       "      <td>0.54</td>\n",
       "    </tr>\n",
       "    <tr>\n",
       "      <th>min</th>\n",
       "      <td>1.00</td>\n",
       "    </tr>\n",
       "    <tr>\n",
       "      <th>25%</th>\n",
       "      <td>4.00</td>\n",
       "    </tr>\n",
       "    <tr>\n",
       "      <th>50%</th>\n",
       "      <td>4.30</td>\n",
       "    </tr>\n",
       "    <tr>\n",
       "      <th>75%</th>\n",
       "      <td>4.50</td>\n",
       "    </tr>\n",
       "    <tr>\n",
       "      <th>max</th>\n",
       "      <td>19.00</td>\n",
       "    </tr>\n",
       "  </tbody>\n",
       "</table>\n",
       "</div>"
      ],
      "text/plain": [
       "       Rating\n",
       "count 9367.00\n",
       "mean     4.19\n",
       "std      0.54\n",
       "min      1.00\n",
       "25%      4.00\n",
       "50%      4.30\n",
       "75%      4.50\n",
       "max     19.00"
      ]
     },
     "execution_count": 7,
     "metadata": {},
     "output_type": "execute_result"
    }
   ],
   "source": [
    "data.describe()"
   ]
  },
  {
   "cell_type": "markdown",
   "id": "ca44e4af",
   "metadata": {},
   "source": [
    "**Here were are obtaining summary statistics of dataset which have datatype object**"
   ]
  },
  {
   "cell_type": "code",
   "execution_count": 8,
   "id": "497fc267",
   "metadata": {
    "scrolled": true
   },
   "outputs": [
    {
     "data": {
      "text/html": [
       "<div>\n",
       "<style scoped>\n",
       "    .dataframe tbody tr th:only-of-type {\n",
       "        vertical-align: middle;\n",
       "    }\n",
       "\n",
       "    .dataframe tbody tr th {\n",
       "        vertical-align: top;\n",
       "    }\n",
       "\n",
       "    .dataframe thead th {\n",
       "        text-align: right;\n",
       "    }\n",
       "</style>\n",
       "<table border=\"1\" class=\"dataframe\">\n",
       "  <thead>\n",
       "    <tr style=\"text-align: right;\">\n",
       "      <th></th>\n",
       "      <th>App</th>\n",
       "      <th>Category</th>\n",
       "      <th>Reviews</th>\n",
       "      <th>Size</th>\n",
       "      <th>Installs</th>\n",
       "      <th>Type</th>\n",
       "      <th>Price</th>\n",
       "      <th>Content Rating</th>\n",
       "      <th>Genres</th>\n",
       "      <th>Last Updated</th>\n",
       "      <th>Current Ver</th>\n",
       "      <th>Android Ver</th>\n",
       "    </tr>\n",
       "  </thead>\n",
       "  <tbody>\n",
       "    <tr>\n",
       "      <th>count</th>\n",
       "      <td>10841</td>\n",
       "      <td>10841</td>\n",
       "      <td>10841</td>\n",
       "      <td>10841</td>\n",
       "      <td>10841</td>\n",
       "      <td>10840</td>\n",
       "      <td>10841</td>\n",
       "      <td>10840</td>\n",
       "      <td>10841</td>\n",
       "      <td>10841</td>\n",
       "      <td>10833</td>\n",
       "      <td>10838</td>\n",
       "    </tr>\n",
       "    <tr>\n",
       "      <th>unique</th>\n",
       "      <td>9660</td>\n",
       "      <td>34</td>\n",
       "      <td>6002</td>\n",
       "      <td>462</td>\n",
       "      <td>22</td>\n",
       "      <td>3</td>\n",
       "      <td>93</td>\n",
       "      <td>6</td>\n",
       "      <td>120</td>\n",
       "      <td>1378</td>\n",
       "      <td>2832</td>\n",
       "      <td>33</td>\n",
       "    </tr>\n",
       "    <tr>\n",
       "      <th>top</th>\n",
       "      <td>ROBLOX</td>\n",
       "      <td>FAMILY</td>\n",
       "      <td>0</td>\n",
       "      <td>Varies with device</td>\n",
       "      <td>1,000,000+</td>\n",
       "      <td>Free</td>\n",
       "      <td>0</td>\n",
       "      <td>Everyone</td>\n",
       "      <td>Tools</td>\n",
       "      <td>August 3, 2018</td>\n",
       "      <td>Varies with device</td>\n",
       "      <td>4.1 and up</td>\n",
       "    </tr>\n",
       "    <tr>\n",
       "      <th>freq</th>\n",
       "      <td>9</td>\n",
       "      <td>1972</td>\n",
       "      <td>596</td>\n",
       "      <td>1695</td>\n",
       "      <td>1579</td>\n",
       "      <td>10039</td>\n",
       "      <td>10040</td>\n",
       "      <td>8714</td>\n",
       "      <td>842</td>\n",
       "      <td>326</td>\n",
       "      <td>1459</td>\n",
       "      <td>2451</td>\n",
       "    </tr>\n",
       "  </tbody>\n",
       "</table>\n",
       "</div>"
      ],
      "text/plain": [
       "           App Category Reviews                Size    Installs   Type  Price  \\\n",
       "count    10841    10841   10841               10841       10841  10840  10841   \n",
       "unique    9660       34    6002                 462          22      3     93   \n",
       "top     ROBLOX   FAMILY       0  Varies with device  1,000,000+   Free      0   \n",
       "freq         9     1972     596                1695        1579  10039  10040   \n",
       "\n",
       "       Content Rating Genres    Last Updated         Current Ver Android Ver  \n",
       "count           10840  10841           10841               10833       10838  \n",
       "unique              6    120            1378                2832          33  \n",
       "top          Everyone  Tools  August 3, 2018  Varies with device  4.1 and up  \n",
       "freq             8714    842             326                1459        2451  "
      ]
     },
     "execution_count": 8,
     "metadata": {},
     "output_type": "execute_result"
    }
   ],
   "source": [
    "data.describe(include='object')"
   ]
  },
  {
   "cell_type": "markdown",
   "id": "0f8d2184",
   "metadata": {},
   "source": [
    "* **Current Ver and Android Ver columns have some null values so they should be worked upon.**\n",
    "* **Rating column has max rating of 19 which is peculiar considering maximum rating for play store app is 5.**\n",
    "* **Categorical columns should be converted to numerical through encoding for model building**"
   ]
  },
  {
   "cell_type": "markdown",
   "id": "fdab10a3",
   "metadata": {},
   "source": [
    "## Checking if there are any duplicate records in the dataset and dropping them"
   ]
  },
  {
   "cell_type": "markdown",
   "id": "a1de361b",
   "metadata": {},
   "source": [
    "**For checking if there is duplicate data we use the method .duplicated()**"
   ]
  },
  {
   "cell_type": "code",
   "execution_count": 9,
   "id": "0f8a5021",
   "metadata": {},
   "outputs": [],
   "source": [
    "duplicate_data = data.duplicated()"
   ]
  },
  {
   "cell_type": "code",
   "execution_count": 10,
   "id": "cf9c5495",
   "metadata": {
    "scrolled": false
   },
   "outputs": [
    {
     "data": {
      "text/plain": [
       "483"
      ]
     },
     "execution_count": 10,
     "metadata": {},
     "output_type": "execute_result"
    }
   ],
   "source": [
    "duplicate_data.sum()"
   ]
  },
  {
   "cell_type": "markdown",
   "id": "1f8c1e70",
   "metadata": {},
   "source": [
    "**We have found duplicate data in 483 rows**"
   ]
  },
  {
   "cell_type": "markdown",
   "id": "8e94f45f",
   "metadata": {},
   "source": [
    "**Dropping the duplicate data using the method .drop_duplicates(inplace = True)**"
   ]
  },
  {
   "cell_type": "code",
   "execution_count": 11,
   "id": "bef4a593",
   "metadata": {},
   "outputs": [],
   "source": [
    "data.drop_duplicates(inplace = True)"
   ]
  },
  {
   "cell_type": "code",
   "execution_count": 12,
   "id": "ed2a8f8a",
   "metadata": {},
   "outputs": [
    {
     "data": {
      "text/plain": [
       "(10358, 13)"
      ]
     },
     "execution_count": 12,
     "metadata": {},
     "output_type": "execute_result"
    }
   ],
   "source": [
    "data.shape #to confirm that the rows are dropped"
   ]
  },
  {
   "cell_type": "markdown",
   "id": "82bccc66",
   "metadata": {},
   "source": [
    "## Checking the unique categories of the column 'Category' to find out if there is any invalid category and drop them."
   ]
  },
  {
   "cell_type": "code",
   "execution_count": 13,
   "id": "a0dc595e",
   "metadata": {
    "scrolled": true
   },
   "outputs": [
    {
     "data": {
      "text/plain": [
       "array(['ART_AND_DESIGN', 'AUTO_AND_VEHICLES', 'BEAUTY',\n",
       "       'BOOKS_AND_REFERENCE', 'BUSINESS', 'COMICS', 'COMMUNICATION',\n",
       "       'DATING', 'EDUCATION', 'ENTERTAINMENT', 'EVENTS', 'FINANCE',\n",
       "       'FOOD_AND_DRINK', 'HEALTH_AND_FITNESS', 'HOUSE_AND_HOME',\n",
       "       'LIBRARIES_AND_DEMO', 'LIFESTYLE', 'GAME', 'FAMILY', 'MEDICAL',\n",
       "       'SOCIAL', 'SHOPPING', 'PHOTOGRAPHY', 'SPORTS', 'TRAVEL_AND_LOCAL',\n",
       "       'TOOLS', 'PERSONALIZATION', 'PRODUCTIVITY', 'PARENTING', 'WEATHER',\n",
       "       'VIDEO_PLAYERS', 'NEWS_AND_MAGAZINES', 'MAPS_AND_NAVIGATION',\n",
       "       '1.9'], dtype=object)"
      ]
     },
     "execution_count": 13,
     "metadata": {},
     "output_type": "execute_result"
    }
   ],
   "source": [
    "unique_categories  = data['Category'].unique()\n",
    "unique_categories"
   ]
  },
  {
   "cell_type": "markdown",
   "id": "665a7e2d",
   "metadata": {},
   "source": [
    "* **We can clearly see that 1.9 is a numerical value in a category column which has object datatype value. So clearly it is an invalid category**\n",
    "* **We will drop it using the .drop() method with inplace = True to permanently drop it.**"
   ]
  },
  {
   "cell_type": "code",
   "execution_count": 14,
   "id": "87e32a17",
   "metadata": {},
   "outputs": [],
   "source": [
    "data.drop(data[data['Category'] == '1.9'].index,inplace=True)"
   ]
  },
  {
   "cell_type": "code",
   "execution_count": 15,
   "id": "ff8ae3b9",
   "metadata": {
    "scrolled": true
   },
   "outputs": [
    {
     "data": {
      "text/plain": [
       "array(['ART_AND_DESIGN', 'AUTO_AND_VEHICLES', 'BEAUTY',\n",
       "       'BOOKS_AND_REFERENCE', 'BUSINESS', 'COMICS', 'COMMUNICATION',\n",
       "       'DATING', 'EDUCATION', 'ENTERTAINMENT', 'EVENTS', 'FINANCE',\n",
       "       'FOOD_AND_DRINK', 'HEALTH_AND_FITNESS', 'HOUSE_AND_HOME',\n",
       "       'LIBRARIES_AND_DEMO', 'LIFESTYLE', 'GAME', 'FAMILY', 'MEDICAL',\n",
       "       'SOCIAL', 'SHOPPING', 'PHOTOGRAPHY', 'SPORTS', 'TRAVEL_AND_LOCAL',\n",
       "       'TOOLS', 'PERSONALIZATION', 'PRODUCTIVITY', 'PARENTING', 'WEATHER',\n",
       "       'VIDEO_PLAYERS', 'NEWS_AND_MAGAZINES', 'MAPS_AND_NAVIGATION'],\n",
       "      dtype=object)"
      ]
     },
     "execution_count": 15,
     "metadata": {},
     "output_type": "execute_result"
    }
   ],
   "source": [
    "data['Category'].unique() #To check if the value of 1.9 is dropped or not"
   ]
  },
  {
   "cell_type": "code",
   "execution_count": 16,
   "id": "9c43b2da",
   "metadata": {
    "scrolled": false
   },
   "outputs": [
    {
     "data": {
      "text/plain": [
       "(10357, 13)"
      ]
     },
     "execution_count": 16,
     "metadata": {},
     "output_type": "execute_result"
    }
   ],
   "source": [
    "data.shape #To confirm that one row is dropped "
   ]
  },
  {
   "cell_type": "markdown",
   "id": "2905f30d",
   "metadata": {},
   "source": [
    "## Checking if there are any missing values present in the column 'Rating' and dropping them."
   ]
  },
  {
   "cell_type": "markdown",
   "id": "31b3dc29",
   "metadata": {},
   "source": [
    "### Finding the missing values in Rating column and dropping them "
   ]
  },
  {
   "cell_type": "markdown",
   "id": "830e455f",
   "metadata": {},
   "source": [
    "**We can find the number of missing values in a column using the combination of .isna().sum() methods**"
   ]
  },
  {
   "cell_type": "code",
   "execution_count": 17,
   "id": "0f69256d",
   "metadata": {
    "scrolled": true
   },
   "outputs": [
    {
     "name": "stdout",
     "output_type": "stream",
     "text": [
      "The number of missing values in column 'Rating'is: 1465\n"
     ]
    }
   ],
   "source": [
    "print(\"The number of missing values in column 'Rating'is:\",data['Rating'].isna().sum())"
   ]
  },
  {
   "cell_type": "markdown",
   "id": "90199a05",
   "metadata": {},
   "source": [
    "* **We can see that there are significant number of missing values present in the column Rating** \n",
    "* **To Drop the missing values we use the method dropna() with subset = ['Rating'] to drop the missing values of only the column 'Rating' and inplace = True to permanently drop the missing value present in Rating**"
   ]
  },
  {
   "cell_type": "code",
   "execution_count": 18,
   "id": "12c4b7ca",
   "metadata": {},
   "outputs": [],
   "source": [
    "data.dropna(subset=['Rating'], inplace = True)"
   ]
  },
  {
   "cell_type": "code",
   "execution_count": 19,
   "id": "4ee25ad4",
   "metadata": {
    "scrolled": true
   },
   "outputs": [
    {
     "data": {
      "text/plain": [
       "(8892, 13)"
      ]
     },
     "execution_count": 19,
     "metadata": {},
     "output_type": "execute_result"
    }
   ],
   "source": [
    "data.shape #To confirm if 1465 rows have been dropped"
   ]
  },
  {
   "cell_type": "markdown",
   "id": "9cdc5556",
   "metadata": {},
   "source": [
    "### Creating a new column 'Rating_category'"
   ]
  },
  {
   "cell_type": "markdown",
   "id": "116d631b",
   "metadata": {},
   "source": [
    "* **Here we are creating a new column named 'Rating_category' by converting Rating to high and low with >3.5 being high and rest being low**\n",
    "* **We did that using apply method where we used lambda function**"
   ]
  },
  {
   "cell_type": "code",
   "execution_count": 20,
   "id": "1734a5c8",
   "metadata": {},
   "outputs": [],
   "source": [
    "data['Rating_category'] = data['Rating'].apply(lambda x : 'high' if x > 3.5 else 'low')"
   ]
  },
  {
   "cell_type": "code",
   "execution_count": 21,
   "id": "f6649a50",
   "metadata": {
    "scrolled": false
   },
   "outputs": [
    {
     "data": {
      "text/html": [
       "<div>\n",
       "<style scoped>\n",
       "    .dataframe tbody tr th:only-of-type {\n",
       "        vertical-align: middle;\n",
       "    }\n",
       "\n",
       "    .dataframe tbody tr th {\n",
       "        vertical-align: top;\n",
       "    }\n",
       "\n",
       "    .dataframe thead th {\n",
       "        text-align: right;\n",
       "    }\n",
       "</style>\n",
       "<table border=\"1\" class=\"dataframe\">\n",
       "  <thead>\n",
       "    <tr style=\"text-align: right;\">\n",
       "      <th></th>\n",
       "      <th>App</th>\n",
       "      <th>Category</th>\n",
       "      <th>Rating</th>\n",
       "      <th>Reviews</th>\n",
       "      <th>Size</th>\n",
       "      <th>Installs</th>\n",
       "      <th>Type</th>\n",
       "      <th>Price</th>\n",
       "      <th>Content Rating</th>\n",
       "      <th>Genres</th>\n",
       "      <th>Last Updated</th>\n",
       "      <th>Current Ver</th>\n",
       "      <th>Android Ver</th>\n",
       "      <th>Rating_category</th>\n",
       "    </tr>\n",
       "  </thead>\n",
       "  <tbody>\n",
       "    <tr>\n",
       "      <th>4456</th>\n",
       "      <td>[Sub/EMUI] P Pro - EMUI 8.1/8.0/5.X Theme</td>\n",
       "      <td>PERSONALIZATION</td>\n",
       "      <td>4.00</td>\n",
       "      <td>13</td>\n",
       "      <td>19M</td>\n",
       "      <td>100+</td>\n",
       "      <td>Paid</td>\n",
       "      <td>$0.99</td>\n",
       "      <td>Everyone</td>\n",
       "      <td>Personalization</td>\n",
       "      <td>July 20, 2018</td>\n",
       "      <td>H7SubTV0.1_TV0.4</td>\n",
       "      <td>7.0 and up</td>\n",
       "      <td>high</td>\n",
       "    </tr>\n",
       "    <tr>\n",
       "      <th>9690</th>\n",
       "      <td>Out There Chronicles - Ep. 1</td>\n",
       "      <td>FAMILY</td>\n",
       "      <td>4.40</td>\n",
       "      <td>1516</td>\n",
       "      <td>44M</td>\n",
       "      <td>50,000+</td>\n",
       "      <td>Paid</td>\n",
       "      <td>$2.99</td>\n",
       "      <td>Everyone</td>\n",
       "      <td>Role Playing</td>\n",
       "      <td>November 27, 2017</td>\n",
       "      <td>1.0.4</td>\n",
       "      <td>4.2 and up</td>\n",
       "      <td>high</td>\n",
       "    </tr>\n",
       "    <tr>\n",
       "      <th>4598</th>\n",
       "      <td>AT&amp;T Digital Life</td>\n",
       "      <td>LIFESTYLE</td>\n",
       "      <td>4.10</td>\n",
       "      <td>10067</td>\n",
       "      <td>Varies with device</td>\n",
       "      <td>1,000,000+</td>\n",
       "      <td>Free</td>\n",
       "      <td>0</td>\n",
       "      <td>Everyone</td>\n",
       "      <td>Lifestyle</td>\n",
       "      <td>December 7, 2017</td>\n",
       "      <td>Varies with device</td>\n",
       "      <td>4.3 and up</td>\n",
       "      <td>high</td>\n",
       "    </tr>\n",
       "  </tbody>\n",
       "</table>\n",
       "</div>"
      ],
      "text/plain": [
       "                                            App         Category  Rating  \\\n",
       "4456  [Sub/EMUI] P Pro - EMUI 8.1/8.0/5.X Theme  PERSONALIZATION    4.00   \n",
       "9690               Out There Chronicles - Ep. 1           FAMILY    4.40   \n",
       "4598                          AT&T Digital Life        LIFESTYLE    4.10   \n",
       "\n",
       "     Reviews                Size    Installs  Type  Price Content Rating  \\\n",
       "4456      13                 19M        100+  Paid  $0.99       Everyone   \n",
       "9690    1516                 44M     50,000+  Paid  $2.99       Everyone   \n",
       "4598   10067  Varies with device  1,000,000+  Free      0       Everyone   \n",
       "\n",
       "               Genres       Last Updated         Current Ver Android Ver  \\\n",
       "4456  Personalization      July 20, 2018    H7SubTV0.1_TV0.4  7.0 and up   \n",
       "9690     Role Playing  November 27, 2017               1.0.4  4.2 and up   \n",
       "4598        Lifestyle   December 7, 2017  Varies with device  4.3 and up   \n",
       "\n",
       "     Rating_category  \n",
       "4456            high  \n",
       "9690            high  \n",
       "4598            high  "
      ]
     },
     "execution_count": 21,
     "metadata": {},
     "output_type": "execute_result"
    }
   ],
   "source": [
    "data.sample(3)"
   ]
  },
  {
   "cell_type": "code",
   "execution_count": 22,
   "id": "f37f14f5",
   "metadata": {
    "scrolled": true
   },
   "outputs": [
    {
     "data": {
      "text/plain": [
       "(8892, 14)"
      ]
     },
     "execution_count": 22,
     "metadata": {},
     "output_type": "execute_result"
    }
   ],
   "source": [
    "data.shape"
   ]
  },
  {
   "cell_type": "markdown",
   "id": "197aa832",
   "metadata": {},
   "source": [
    "## Checking the distribution of the newly created column 'Rating_category'"
   ]
  },
  {
   "cell_type": "markdown",
   "id": "e0c4ee52",
   "metadata": {},
   "source": [
    "**Here we use value_counts method which gives the number of occurences of unique values in a column and we also use normalize = True which calculates proportion of each category instead of count.**"
   ]
  },
  {
   "cell_type": "code",
   "execution_count": 23,
   "id": "6aeb768d",
   "metadata": {
    "scrolled": true
   },
   "outputs": [
    {
     "name": "stdout",
     "output_type": "stream",
     "text": [
      "high   0.90\n",
      "low    0.10\n",
      "Name: Rating_category, dtype: float64\n"
     ]
    }
   ],
   "source": [
    "distribution = data['Rating_category'].value_counts(normalize=True)\n",
    "print(distribution)"
   ]
  },
  {
   "cell_type": "markdown",
   "id": "b992d89f",
   "metadata": {},
   "source": [
    "**here we can see that almost 90 percent of the values in the column have rating_category High and about 10% being low**"
   ]
  },
  {
   "cell_type": "code",
   "execution_count": 24,
   "id": "d58c2ec9",
   "metadata": {
    "scrolled": true
   },
   "outputs": [
    {
     "name": "stdout",
     "output_type": "stream",
     "text": [
      "high    8012\n",
      "low      880\n",
      "Name: Rating_category, dtype: int64\n"
     ]
    }
   ],
   "source": [
    "distri = data['Rating_category'].value_counts()\n",
    "print(distri)"
   ]
  },
  {
   "cell_type": "markdown",
   "id": "fb5ba76c",
   "metadata": {},
   "source": [
    "**We can also showcase the distribution using a bar plot**"
   ]
  },
  {
   "cell_type": "code",
   "execution_count": 25,
   "id": "7614b7ce",
   "metadata": {
    "scrolled": false
   },
   "outputs": [
    {
     "data": {
      "image/png": "[encoded data removed]",
      "text/plain": [
       "<Figure size 640x480 with 1 Axes>"
      ]
     },
     "metadata": {},
     "output_type": "display_data"
    }
   ],
   "source": [
    "ax = distribution.plot(kind='bar')\n",
    "for i, v in enumerate(distribution):\n",
    "    ax.text(i, v, f'{v*100:.0f}%', ha='center', va='bottom')\n",
    "plt.xlabel('Categories')\n",
    "plt.ylabel('distribution')\n",
    "plt.title('Distribution of Rating_category')\n",
    "plt.show()"
   ]
  },
  {
   "cell_type": "markdown",
   "id": "3afe3d06",
   "metadata": {},
   "source": [
    "## Converting the column \"Reviews'' to numeric data type"
   ]
  },
  {
   "cell_type": "markdown",
   "id": "64bf74d7",
   "metadata": {},
   "source": [
    "**Converting the Reviews to numeric data type using the method .to_numeric() errors = 'coerce' to handle any non numeric value if present**"
   ]
  },
  {
   "cell_type": "code",
   "execution_count": 26,
   "id": "862196fa",
   "metadata": {},
   "outputs": [],
   "source": [
    "data['Reviews'] = pd.to_numeric(data['Reviews'], errors='coerce')"
   ]
  },
  {
   "cell_type": "code",
   "execution_count": 27,
   "id": "a74abaf6",
   "metadata": {
    "scrolled": false
   },
   "outputs": [
    {
     "name": "stdout",
     "output_type": "stream",
     "text": [
      "<class 'pandas.core.frame.DataFrame'>\n",
      "Int64Index: 8892 entries, 0 to 10840\n",
      "Data columns (total 14 columns):\n",
      " #   Column           Non-Null Count  Dtype  \n",
      "---  ------           --------------  -----  \n",
      " 0   App              8892 non-null   object \n",
      " 1   Category         8892 non-null   object \n",
      " 2   Rating           8892 non-null   float64\n",
      " 3   Reviews          8892 non-null   int64  \n",
      " 4   Size             8892 non-null   object \n",
      " 5   Installs         8892 non-null   object \n",
      " 6   Type             8892 non-null   object \n",
      " 7   Price            8892 non-null   object \n",
      " 8   Content Rating   8892 non-null   object \n",
      " 9   Genres           8892 non-null   object \n",
      " 10  Last Updated     8892 non-null   object \n",
      " 11  Current Ver      8888 non-null   object \n",
      " 12  Android Ver      8890 non-null   object \n",
      " 13  Rating_category  8892 non-null   object \n",
      "dtypes: float64(1), int64(1), object(12)\n",
      "memory usage: 1.0+ MB\n"
     ]
    }
   ],
   "source": [
    "data.info()"
   ]
  },
  {
   "cell_type": "markdown",
   "id": "67415f6c",
   "metadata": {},
   "source": [
    "**As you can see we have converted the Reviews column to a numeric data type (int64)**"
   ]
  },
  {
   "cell_type": "markdown",
   "id": "8d02a031",
   "metadata": {},
   "source": [
    "## Checking the presence of outliers in the column and handling the outliers using a transformation approach.(Using log transformation)"
   ]
  },
  {
   "cell_type": "markdown",
   "id": "2b18ab4c",
   "metadata": {},
   "source": [
    "**Now we check for the outliers present in the column using Z-score**"
   ]
  },
  {
   "cell_type": "code",
   "execution_count": 28,
   "id": "e72399bb",
   "metadata": {},
   "outputs": [],
   "source": [
    "outliers = data[(np.abs(data['Reviews'] - data['Reviews'].mean()) > 2 * data['Reviews'].std())]"
   ]
  },
  {
   "cell_type": "markdown",
   "id": "768e5051",
   "metadata": {},
   "source": [
    "**Handling the outliers using log transformation**"
   ]
  },
  {
   "cell_type": "code",
   "execution_count": 29,
   "id": "82b278ab",
   "metadata": {},
   "outputs": [],
   "source": [
    "data['Transformed_Reviews'] = np.log(data['Reviews'])"
   ]
  },
  {
   "cell_type": "markdown",
   "id": "fe8113d9",
   "metadata": {},
   "source": [
    "**Replacing the outliers using median of the tranformed reviews column**"
   ]
  },
  {
   "cell_type": "code",
   "execution_count": 30,
   "id": "ede12c52",
   "metadata": {},
   "outputs": [],
   "source": [
    "median_transform = np.median(data['Transformed_Reviews'])\n",
    "data.loc[outliers.index, 'Transformed_Reviews'] = median_transform"
   ]
  },
  {
   "cell_type": "markdown",
   "id": "f24fa1cd",
   "metadata": {},
   "source": [
    "## The column 'Size' contains alphanumeric values, so we treat the non numeric data and convert the column into suitable data type. (Replacing M with 1 million and K with 1 thousand, and droping the entries where size='Varies with device')"
   ]
  },
  {
   "cell_type": "markdown",
   "id": "49ace036",
   "metadata": {},
   "source": [
    "**To treat the alphanumeric values we write a function to treat non numeric data where we convert the column into a suitable data type**"
   ]
  },
  {
   "cell_type": "code",
   "execution_count": 31,
   "id": "982c67dd",
   "metadata": {},
   "outputs": [],
   "source": [
    "def treat_alpha(value):\n",
    "    if 'M' in value:\n",
    "        return float(value.replace('M', '')) * 1000000\n",
    "    elif 'K' in value:\n",
    "        return float(value.replace('K', '')) * 1000\n",
    "    else:\n",
    "        return pd.to_numeric(value, errors='coerce')\n",
    "data['Size'] = data['Size'].apply(treat_alpha)"
   ]
  },
  {
   "cell_type": "markdown",
   "id": "d37054e6",
   "metadata": {},
   "source": [
    "* **Since we used errors = 'coerce' non numeric data must've been converted to NaN, so 'Varies with device' can be removed by using the method .dropna()**\n",
    "\n",
    "* **let us drop all the rows which have NaN(which earlier had Varies with device)**"
   ]
  },
  {
   "cell_type": "code",
   "execution_count": 32,
   "id": "7dec895c",
   "metadata": {},
   "outputs": [],
   "source": [
    "data.dropna(inplace=True)"
   ]
  },
  {
   "cell_type": "code",
   "execution_count": 33,
   "id": "cecdab7a",
   "metadata": {
    "scrolled": true
   },
   "outputs": [
    {
     "name": "stdout",
     "output_type": "stream",
     "text": [
      "<class 'pandas.core.frame.DataFrame'>\n",
      "Int64Index: 7162 entries, 0 to 10840\n",
      "Data columns (total 15 columns):\n",
      " #   Column               Non-Null Count  Dtype  \n",
      "---  ------               --------------  -----  \n",
      " 0   App                  7162 non-null   object \n",
      " 1   Category             7162 non-null   object \n",
      " 2   Rating               7162 non-null   float64\n",
      " 3   Reviews              7162 non-null   int64  \n",
      " 4   Size                 7162 non-null   float64\n",
      " 5   Installs             7162 non-null   object \n",
      " 6   Type                 7162 non-null   object \n",
      " 7   Price                7162 non-null   object \n",
      " 8   Content Rating       7162 non-null   object \n",
      " 9   Genres               7162 non-null   object \n",
      " 10  Last Updated         7162 non-null   object \n",
      " 11  Current Ver          7162 non-null   object \n",
      " 12  Android Ver          7162 non-null   object \n",
      " 13  Rating_category      7162 non-null   object \n",
      " 14  Transformed_Reviews  7162 non-null   float64\n",
      "dtypes: float64(3), int64(1), object(11)\n",
      "memory usage: 895.2+ KB\n"
     ]
    }
   ],
   "source": [
    "data.info() #after dropping the NaN value we have 7162 non null values in each features"
   ]
  },
  {
   "cell_type": "markdown",
   "id": "01ec1939",
   "metadata": {},
   "source": [
    "## Checking the column 'Installs', treat the unwanted characters and convert the column into a suitable data type"
   ]
  },
  {
   "cell_type": "code",
   "execution_count": 34,
   "id": "0026aa0a",
   "metadata": {
    "scrolled": false
   },
   "outputs": [
    {
     "data": {
      "text/plain": [
       "0     10,000+\n",
       "1    500,000+\n",
       "Name: Installs, dtype: object"
      ]
     },
     "execution_count": 34,
     "metadata": {},
     "output_type": "execute_result"
    }
   ],
   "source": [
    "data['Installs'].head(2)"
   ]
  },
  {
   "cell_type": "markdown",
   "id": "3c69dfc5",
   "metadata": {},
   "source": [
    "**We can observe that installs has '+' symbol at the end of every value, we can remove that by using str.rstrip('+')**"
   ]
  },
  {
   "cell_type": "code",
   "execution_count": 35,
   "id": "f721be7d",
   "metadata": {},
   "outputs": [],
   "source": [
    "data['Installs'] = data['Installs'].str.rstrip('+')"
   ]
  },
  {
   "cell_type": "markdown",
   "id": "188dadd0",
   "metadata": {},
   "source": [
    "**To remove comas we can use the str.replace() method**"
   ]
  },
  {
   "cell_type": "code",
   "execution_count": 36,
   "id": "6fb006b9",
   "metadata": {},
   "outputs": [],
   "source": [
    "data['Installs'] = data['Installs'].str.replace(',','')"
   ]
  },
  {
   "cell_type": "markdown",
   "id": "982c6f91",
   "metadata": {},
   "source": [
    "**To convert the data type to a numeric data type we use .to_numeric() method**"
   ]
  },
  {
   "cell_type": "code",
   "execution_count": 37,
   "id": "9b4cb726",
   "metadata": {},
   "outputs": [],
   "source": [
    "data['Installs'] = pd.to_numeric(data['Installs'], errors = 'coerce')"
   ]
  },
  {
   "cell_type": "code",
   "execution_count": 38,
   "id": "75deba3a",
   "metadata": {},
   "outputs": [
    {
     "name": "stdout",
     "output_type": "stream",
     "text": [
      "<class 'pandas.core.series.Series'>\n",
      "Int64Index: 7162 entries, 0 to 10840\n",
      "Series name: Installs\n",
      "Non-Null Count  Dtype\n",
      "--------------  -----\n",
      "7162 non-null   int64\n",
      "dtypes: int64(1)\n",
      "memory usage: 111.9 KB\n"
     ]
    }
   ],
   "source": [
    "data['Installs'].info() #we see that the Installs column has been converted into a numeric data type(int64)"
   ]
  },
  {
   "cell_type": "markdown",
   "id": "6f53ce61",
   "metadata": {},
   "source": [
    "## Checking the column 'Price' , removing the unwanted characters and converting the column into a suitable data type"
   ]
  },
  {
   "cell_type": "code",
   "execution_count": 39,
   "id": "416136c8",
   "metadata": {
    "scrolled": true
   },
   "outputs": [
    {
     "data": {
      "text/plain": [
       "6899    0\n",
       "3194    0\n",
       "Name: Price, dtype: object"
      ]
     },
     "execution_count": 39,
     "metadata": {},
     "output_type": "execute_result"
    }
   ],
   "source": [
    "data['Price'].sample(2)"
   ]
  },
  {
   "cell_type": "markdown",
   "id": "3a138148",
   "metadata": {},
   "source": [
    "**We observe that the column 'Price' has a dollar symbol, so we can remove that using str.replace**"
   ]
  },
  {
   "cell_type": "code",
   "execution_count": 40,
   "id": "97216445",
   "metadata": {},
   "outputs": [],
   "source": [
    "data['Price'] = data['Price'].str.replace('$','')"
   ]
  },
  {
   "cell_type": "markdown",
   "id": "e19e8bb0",
   "metadata": {},
   "source": [
    "**Next we convert the column into a numeric data type using the method .to_numeric()**"
   ]
  },
  {
   "cell_type": "code",
   "execution_count": 41,
   "id": "b76f3f28",
   "metadata": {},
   "outputs": [],
   "source": [
    "data['Price'] = pd.to_numeric(data['Price'], errors = 'coerce')"
   ]
  },
  {
   "cell_type": "code",
   "execution_count": 42,
   "id": "01ce61b8",
   "metadata": {
    "scrolled": true
   },
   "outputs": [
    {
     "name": "stdout",
     "output_type": "stream",
     "text": [
      "<class 'pandas.core.series.Series'>\n",
      "Int64Index: 7162 entries, 0 to 10840\n",
      "Series name: Price\n",
      "Non-Null Count  Dtype  \n",
      "--------------  -----  \n",
      "7162 non-null   float64\n",
      "dtypes: float64(1)\n",
      "memory usage: 111.9 KB\n"
     ]
    }
   ],
   "source": [
    "data['Price'].info() #As we can see the column has been converted into a numeric data type(float64)"
   ]
  },
  {
   "cell_type": "markdown",
   "id": "0d5bb5e7",
   "metadata": {},
   "source": [
    "### EDA"
   ]
  },
  {
   "cell_type": "markdown",
   "id": "c2918a7c",
   "metadata": {},
   "source": [
    "### We remove columns which are redundant for our analysis"
   ]
  },
  {
   "cell_type": "code",
   "execution_count": 43,
   "id": "39f0f834",
   "metadata": {},
   "outputs": [],
   "source": [
    "columns_to_drop = [\"Last Updated\",\"Current Ver\",\"Android Ver\"]"
   ]
  },
  {
   "cell_type": "code",
   "execution_count": 44,
   "id": "9734efb6",
   "metadata": {},
   "outputs": [],
   "source": [
    "data.drop(columns = columns_to_drop,inplace=True)"
   ]
  },
  {
   "cell_type": "code",
   "execution_count": 45,
   "id": "796e15f8",
   "metadata": {
    "scrolled": false
   },
   "outputs": [
    {
     "data": {
      "text/html": [
       "<div>\n",
       "<style scoped>\n",
       "    .dataframe tbody tr th:only-of-type {\n",
       "        vertical-align: middle;\n",
       "    }\n",
       "\n",
       "    .dataframe tbody tr th {\n",
       "        vertical-align: top;\n",
       "    }\n",
       "\n",
       "    .dataframe thead th {\n",
       "        text-align: right;\n",
       "    }\n",
       "</style>\n",
       "<table border=\"1\" class=\"dataframe\">\n",
       "  <thead>\n",
       "    <tr style=\"text-align: right;\">\n",
       "      <th></th>\n",
       "      <th>App</th>\n",
       "      <th>Category</th>\n",
       "      <th>Rating</th>\n",
       "      <th>Reviews</th>\n",
       "      <th>Size</th>\n",
       "      <th>Installs</th>\n",
       "      <th>Type</th>\n",
       "      <th>Price</th>\n",
       "      <th>Content Rating</th>\n",
       "      <th>Genres</th>\n",
       "      <th>Rating_category</th>\n",
       "      <th>Transformed_Reviews</th>\n",
       "    </tr>\n",
       "  </thead>\n",
       "  <tbody>\n",
       "    <tr>\n",
       "      <th>10394</th>\n",
       "      <td>PBS KIDS Games</td>\n",
       "      <td>FAMILY</td>\n",
       "      <td>4.30</td>\n",
       "      <td>12919</td>\n",
       "      <td>94000000.00</td>\n",
       "      <td>1000000</td>\n",
       "      <td>Free</td>\n",
       "      <td>0.00</td>\n",
       "      <td>Everyone</td>\n",
       "      <td>Educational;Education</td>\n",
       "      <td>high</td>\n",
       "      <td>9.47</td>\n",
       "    </tr>\n",
       "  </tbody>\n",
       "</table>\n",
       "</div>"
      ],
      "text/plain": [
       "                  App Category  Rating  Reviews        Size  Installs  Type  \\\n",
       "10394  PBS KIDS Games   FAMILY    4.30    12919 94000000.00   1000000  Free   \n",
       "\n",
       "       Price Content Rating                 Genres Rating_category  \\\n",
       "10394   0.00       Everyone  Educational;Education            high   \n",
       "\n",
       "       Transformed_Reviews  \n",
       "10394                 9.47  "
      ]
     },
     "execution_count": 45,
     "metadata": {},
     "output_type": "execute_result"
    }
   ],
   "source": [
    "data.sample()"
   ]
  },
  {
   "cell_type": "code",
   "execution_count": 46,
   "id": "96414741",
   "metadata": {
    "scrolled": true
   },
   "outputs": [
    {
     "data": {
      "text/plain": [
       "Index(['App', 'Category', 'Rating', 'Reviews', 'Size', 'Installs', 'Type',\n",
       "       'Price', 'Content Rating', 'Genres', 'Rating_category',\n",
       "       'Transformed_Reviews'],\n",
       "      dtype='object')"
      ]
     },
     "execution_count": 46,
     "metadata": {},
     "output_type": "execute_result"
    }
   ],
   "source": [
    "data.columns"
   ]
  },
  {
   "cell_type": "markdown",
   "id": "e9101f0a",
   "metadata": {},
   "source": [
    "## What are the key factors that influence app ratings?"
   ]
  },
  {
   "cell_type": "markdown",
   "id": "3089b30e",
   "metadata": {},
   "source": [
    "### How does the number of reviews correlate with app ratings across different categories?"
   ]
  },
  {
   "cell_type": "code",
   "execution_count": 47,
   "id": "fee0d581",
   "metadata": {},
   "outputs": [],
   "source": [
    "grouped  = data.groupby(\"Category\")"
   ]
  },
  {
   "cell_type": "code",
   "execution_count": 48,
   "id": "dbf1e28b",
   "metadata": {},
   "outputs": [],
   "source": [
    "correlations = {}"
   ]
  },
  {
   "cell_type": "code",
   "execution_count": 49,
   "id": "ae816c30",
   "metadata": {},
   "outputs": [],
   "source": [
    "for category, group in grouped:\n",
    "    correlation = group['Reviews'].corr(group['Rating'])\n",
    "    correlations[category] = correlation"
   ]
  },
  {
   "cell_type": "code",
   "execution_count": 50,
   "id": "52df6d10",
   "metadata": {},
   "outputs": [],
   "source": [
    "correlations_df = pd.DataFrame(list(correlations.items()), columns=['Category', 'Correlation'])"
   ]
  },
  {
   "cell_type": "code",
   "execution_count": 51,
   "id": "9e1cc137",
   "metadata": {
    "scrolled": true
   },
   "outputs": [
    {
     "data": {
      "text/html": [
       "<div>\n",
       "<style scoped>\n",
       "    .dataframe tbody tr th:only-of-type {\n",
       "        vertical-align: middle;\n",
       "    }\n",
       "\n",
       "    .dataframe tbody tr th {\n",
       "        vertical-align: top;\n",
       "    }\n",
       "\n",
       "    .dataframe thead th {\n",
       "        text-align: right;\n",
       "    }\n",
       "</style>\n",
       "<table border=\"1\" class=\"dataframe\">\n",
       "  <thead>\n",
       "    <tr style=\"text-align: right;\">\n",
       "      <th></th>\n",
       "      <th>Category</th>\n",
       "      <th>Correlation</th>\n",
       "    </tr>\n",
       "  </thead>\n",
       "  <tbody>\n",
       "    <tr>\n",
       "      <th>0</th>\n",
       "      <td>ART_AND_DESIGN</td>\n",
       "      <td>0.14</td>\n",
       "    </tr>\n",
       "    <tr>\n",
       "      <th>1</th>\n",
       "      <td>AUTO_AND_VEHICLES</td>\n",
       "      <td>0.19</td>\n",
       "    </tr>\n",
       "    <tr>\n",
       "      <th>2</th>\n",
       "      <td>BEAUTY</td>\n",
       "      <td>0.31</td>\n",
       "    </tr>\n",
       "    <tr>\n",
       "      <th>3</th>\n",
       "      <td>BOOKS_AND_REFERENCE</td>\n",
       "      <td>0.09</td>\n",
       "    </tr>\n",
       "    <tr>\n",
       "      <th>4</th>\n",
       "      <td>BUSINESS</td>\n",
       "      <td>0.08</td>\n",
       "    </tr>\n",
       "    <tr>\n",
       "      <th>5</th>\n",
       "      <td>COMICS</td>\n",
       "      <td>0.01</td>\n",
       "    </tr>\n",
       "    <tr>\n",
       "      <th>6</th>\n",
       "      <td>COMMUNICATION</td>\n",
       "      <td>0.15</td>\n",
       "    </tr>\n",
       "    <tr>\n",
       "      <th>7</th>\n",
       "      <td>DATING</td>\n",
       "      <td>0.15</td>\n",
       "    </tr>\n",
       "    <tr>\n",
       "      <th>8</th>\n",
       "      <td>EDUCATION</td>\n",
       "      <td>0.31</td>\n",
       "    </tr>\n",
       "    <tr>\n",
       "      <th>9</th>\n",
       "      <td>ENTERTAINMENT</td>\n",
       "      <td>0.03</td>\n",
       "    </tr>\n",
       "    <tr>\n",
       "      <th>10</th>\n",
       "      <td>EVENTS</td>\n",
       "      <td>-0.32</td>\n",
       "    </tr>\n",
       "    <tr>\n",
       "      <th>11</th>\n",
       "      <td>FAMILY</td>\n",
       "      <td>0.06</td>\n",
       "    </tr>\n",
       "    <tr>\n",
       "      <th>12</th>\n",
       "      <td>FINANCE</td>\n",
       "      <td>0.12</td>\n",
       "    </tr>\n",
       "    <tr>\n",
       "      <th>13</th>\n",
       "      <td>FOOD_AND_DRINK</td>\n",
       "      <td>0.16</td>\n",
       "    </tr>\n",
       "    <tr>\n",
       "      <th>14</th>\n",
       "      <td>GAME</td>\n",
       "      <td>0.16</td>\n",
       "    </tr>\n",
       "    <tr>\n",
       "      <th>15</th>\n",
       "      <td>HEALTH_AND_FITNESS</td>\n",
       "      <td>0.22</td>\n",
       "    </tr>\n",
       "    <tr>\n",
       "      <th>16</th>\n",
       "      <td>HOUSE_AND_HOME</td>\n",
       "      <td>0.20</td>\n",
       "    </tr>\n",
       "    <tr>\n",
       "      <th>17</th>\n",
       "      <td>LIBRARIES_AND_DEMO</td>\n",
       "      <td>-0.05</td>\n",
       "    </tr>\n",
       "    <tr>\n",
       "      <th>18</th>\n",
       "      <td>LIFESTYLE</td>\n",
       "      <td>0.04</td>\n",
       "    </tr>\n",
       "    <tr>\n",
       "      <th>19</th>\n",
       "      <td>MAPS_AND_NAVIGATION</td>\n",
       "      <td>0.15</td>\n",
       "    </tr>\n",
       "    <tr>\n",
       "      <th>20</th>\n",
       "      <td>MEDICAL</td>\n",
       "      <td>0.18</td>\n",
       "    </tr>\n",
       "    <tr>\n",
       "      <th>21</th>\n",
       "      <td>NEWS_AND_MAGAZINES</td>\n",
       "      <td>0.04</td>\n",
       "    </tr>\n",
       "    <tr>\n",
       "      <th>22</th>\n",
       "      <td>PARENTING</td>\n",
       "      <td>0.14</td>\n",
       "    </tr>\n",
       "    <tr>\n",
       "      <th>23</th>\n",
       "      <td>PERSONALIZATION</td>\n",
       "      <td>0.10</td>\n",
       "    </tr>\n",
       "    <tr>\n",
       "      <th>24</th>\n",
       "      <td>PHOTOGRAPHY</td>\n",
       "      <td>0.16</td>\n",
       "    </tr>\n",
       "    <tr>\n",
       "      <th>25</th>\n",
       "      <td>PRODUCTIVITY</td>\n",
       "      <td>0.14</td>\n",
       "    </tr>\n",
       "    <tr>\n",
       "      <th>26</th>\n",
       "      <td>SHOPPING</td>\n",
       "      <td>0.12</td>\n",
       "    </tr>\n",
       "    <tr>\n",
       "      <th>27</th>\n",
       "      <td>SOCIAL</td>\n",
       "      <td>0.06</td>\n",
       "    </tr>\n",
       "    <tr>\n",
       "      <th>28</th>\n",
       "      <td>SPORTS</td>\n",
       "      <td>0.08</td>\n",
       "    </tr>\n",
       "    <tr>\n",
       "      <th>29</th>\n",
       "      <td>TOOLS</td>\n",
       "      <td>0.12</td>\n",
       "    </tr>\n",
       "    <tr>\n",
       "      <th>30</th>\n",
       "      <td>TRAVEL_AND_LOCAL</td>\n",
       "      <td>0.25</td>\n",
       "    </tr>\n",
       "    <tr>\n",
       "      <th>31</th>\n",
       "      <td>VIDEO_PLAYERS</td>\n",
       "      <td>0.17</td>\n",
       "    </tr>\n",
       "    <tr>\n",
       "      <th>32</th>\n",
       "      <td>WEATHER</td>\n",
       "      <td>0.09</td>\n",
       "    </tr>\n",
       "  </tbody>\n",
       "</table>\n",
       "</div>"
      ],
      "text/plain": [
       "               Category  Correlation\n",
       "0        ART_AND_DESIGN         0.14\n",
       "1     AUTO_AND_VEHICLES         0.19\n",
       "2                BEAUTY         0.31\n",
       "3   BOOKS_AND_REFERENCE         0.09\n",
       "4              BUSINESS         0.08\n",
       "5                COMICS         0.01\n",
       "6         COMMUNICATION         0.15\n",
       "7                DATING         0.15\n",
       "8             EDUCATION         0.31\n",
       "9         ENTERTAINMENT         0.03\n",
       "10               EVENTS        -0.32\n",
       "11               FAMILY         0.06\n",
       "12              FINANCE         0.12\n",
       "13       FOOD_AND_DRINK         0.16\n",
       "14                 GAME         0.16\n",
       "15   HEALTH_AND_FITNESS         0.22\n",
       "16       HOUSE_AND_HOME         0.20\n",
       "17   LIBRARIES_AND_DEMO        -0.05\n",
       "18            LIFESTYLE         0.04\n",
       "19  MAPS_AND_NAVIGATION         0.15\n",
       "20              MEDICAL         0.18\n",
       "21   NEWS_AND_MAGAZINES         0.04\n",
       "22            PARENTING         0.14\n",
       "23      PERSONALIZATION         0.10\n",
       "24          PHOTOGRAPHY         0.16\n",
       "25         PRODUCTIVITY         0.14\n",
       "26             SHOPPING         0.12\n",
       "27               SOCIAL         0.06\n",
       "28               SPORTS         0.08\n",
       "29                TOOLS         0.12\n",
       "30     TRAVEL_AND_LOCAL         0.25\n",
       "31        VIDEO_PLAYERS         0.17\n",
       "32              WEATHER         0.09"
      ]
     },
     "execution_count": 51,
     "metadata": {},
     "output_type": "execute_result"
    }
   ],
   "source": [
    "correlations_df"
   ]
  },
  {
   "cell_type": "markdown",
   "id": "c48ee8ce",
   "metadata": {},
   "source": [
    "### Inference:\n",
    "* For Categories **Beauty**, **Education** and **Travel and Local**, number of reviews has weak positive correlation with app ratings\n",
    "* For Category **Events**, there is a weak negative correlation between Number of reviews and App Ratings"
   ]
  },
  {
   "cell_type": "markdown",
   "id": "c71f9c03",
   "metadata": {},
   "source": [
    "### Is there a significant difference in ratings between free and paid apps?"
   ]
  },
  {
   "cell_type": "code",
   "execution_count": 52,
   "id": "b928b985",
   "metadata": {},
   "outputs": [],
   "source": [
    "Free_apps = data[data[\"Type\"]==\"Free\"]"
   ]
  },
  {
   "cell_type": "code",
   "execution_count": 53,
   "id": "9b26076d",
   "metadata": {},
   "outputs": [],
   "source": [
    "Paid_apps = data[data[\"Type\"]==\"Paid\"]"
   ]
  },
  {
   "cell_type": "code",
   "execution_count": 54,
   "id": "8941f815",
   "metadata": {
    "scrolled": true
   },
   "outputs": [
    {
     "name": "stdout",
     "output_type": "stream",
     "text": [
      "Average rating for Free Apps: 4.17\n"
     ]
    }
   ],
   "source": [
    "print(\"Average rating for Free Apps:\",round(Free_apps[\"Rating\"].mean(),2))"
   ]
  },
  {
   "cell_type": "code",
   "execution_count": 55,
   "id": "6e68ae57",
   "metadata": {},
   "outputs": [
    {
     "name": "stdout",
     "output_type": "stream",
     "text": [
      "Average rating for Paid Apps: 4.27\n"
     ]
    }
   ],
   "source": [
    "print(\"Average rating for Paid Apps:\",round(Paid_apps[\"Rating\"].mean(),2))"
   ]
  },
  {
   "cell_type": "markdown",
   "id": "723d11b2",
   "metadata": {},
   "source": [
    "### Inference:\n",
    "* The Rating for paid apps is slightly higher on average when compared to free apps. But the differnce is minimal"
   ]
  },
  {
   "cell_type": "markdown",
   "id": "0858963a",
   "metadata": {},
   "source": [
    "## What trends can be observed in app installations?"
   ]
  },
  {
   "cell_type": "markdown",
   "id": "e4528ed6",
   "metadata": {},
   "source": [
    "### Which categories have the highest average number of installs?"
   ]
  },
  {
   "cell_type": "code",
   "execution_count": 56,
   "id": "6e4dd851",
   "metadata": {},
   "outputs": [
    {
     "data": {
      "text/html": [
       "<div>\n",
       "<style scoped>\n",
       "    .dataframe tbody tr th:only-of-type {\n",
       "        vertical-align: middle;\n",
       "    }\n",
       "\n",
       "    .dataframe tbody tr th {\n",
       "        vertical-align: top;\n",
       "    }\n",
       "\n",
       "    .dataframe thead th {\n",
       "        text-align: right;\n",
       "    }\n",
       "</style>\n",
       "<table border=\"1\" class=\"dataframe\">\n",
       "  <thead>\n",
       "    <tr style=\"text-align: right;\">\n",
       "      <th></th>\n",
       "      <th>App</th>\n",
       "      <th>Category</th>\n",
       "      <th>Rating</th>\n",
       "      <th>Reviews</th>\n",
       "      <th>Size</th>\n",
       "      <th>Installs</th>\n",
       "      <th>Type</th>\n",
       "      <th>Price</th>\n",
       "      <th>Content Rating</th>\n",
       "      <th>Genres</th>\n",
       "      <th>Rating_category</th>\n",
       "      <th>Transformed_Reviews</th>\n",
       "    </tr>\n",
       "  </thead>\n",
       "  <tbody>\n",
       "    <tr>\n",
       "      <th>7624</th>\n",
       "      <td>Little Lovely Dentist</td>\n",
       "      <td>FAMILY</td>\n",
       "      <td>4.20</td>\n",
       "      <td>17786</td>\n",
       "      <td>16000000.00</td>\n",
       "      <td>1000000</td>\n",
       "      <td>Free</td>\n",
       "      <td>0.00</td>\n",
       "      <td>Everyone</td>\n",
       "      <td>Casual</td>\n",
       "      <td>high</td>\n",
       "      <td>9.79</td>\n",
       "    </tr>\n",
       "  </tbody>\n",
       "</table>\n",
       "</div>"
      ],
      "text/plain": [
       "                        App Category  Rating  Reviews        Size  Installs  \\\n",
       "7624  Little Lovely Dentist   FAMILY    4.20    17786 16000000.00   1000000   \n",
       "\n",
       "      Type  Price Content Rating  Genres Rating_category  Transformed_Reviews  \n",
       "7624  Free   0.00       Everyone  Casual            high                 9.79  "
      ]
     },
     "execution_count": 56,
     "metadata": {},
     "output_type": "execute_result"
    }
   ],
   "source": [
    "data.sample()"
   ]
  },
  {
   "cell_type": "code",
   "execution_count": 57,
   "id": "7256467b",
   "metadata": {
    "scrolled": false
   },
   "outputs": [
    {
     "data": {
      "text/html": [
       "<div>\n",
       "<style scoped>\n",
       "    .dataframe tbody tr th:only-of-type {\n",
       "        vertical-align: middle;\n",
       "    }\n",
       "\n",
       "    .dataframe tbody tr th {\n",
       "        vertical-align: top;\n",
       "    }\n",
       "\n",
       "    .dataframe thead th {\n",
       "        text-align: right;\n",
       "    }\n",
       "</style>\n",
       "<table border=\"1\" class=\"dataframe\">\n",
       "  <thead>\n",
       "    <tr style=\"text-align: right;\">\n",
       "      <th></th>\n",
       "      <th>Installs</th>\n",
       "    </tr>\n",
       "    <tr>\n",
       "      <th>Category</th>\n",
       "      <th></th>\n",
       "    </tr>\n",
       "  </thead>\n",
       "  <tbody>\n",
       "    <tr>\n",
       "      <th>GAME</th>\n",
       "      <td>28035880.46</td>\n",
       "    </tr>\n",
       "    <tr>\n",
       "      <th>NEWS_AND_MAGAZINES</th>\n",
       "      <td>20093115.94</td>\n",
       "    </tr>\n",
       "    <tr>\n",
       "      <th>COMMUNICATION</th>\n",
       "      <td>18244860.11</td>\n",
       "    </tr>\n",
       "    <tr>\n",
       "      <th>PRODUCTIVITY</th>\n",
       "      <td>12651308.32</td>\n",
       "    </tr>\n",
       "    <tr>\n",
       "      <th>ENTERTAINMENT</th>\n",
       "      <td>11178507.46</td>\n",
       "    </tr>\n",
       "  </tbody>\n",
       "</table>\n",
       "</div>"
      ],
      "text/plain": [
       "                      Installs\n",
       "Category                      \n",
       "GAME               28035880.46\n",
       "NEWS_AND_MAGAZINES 20093115.94\n",
       "COMMUNICATION      18244860.11\n",
       "PRODUCTIVITY       12651308.32\n",
       "ENTERTAINMENT      11178507.46"
      ]
     },
     "execution_count": 57,
     "metadata": {},
     "output_type": "execute_result"
    }
   ],
   "source": [
    "#Grouping by Category and taking the average of Installs\n",
    "data.groupby(\"Category\")[\"Installs\"].mean().to_frame().sort_values(by=\"Installs\",ascending=False).head()"
   ]
  },
  {
   "cell_type": "markdown",
   "id": "9196418e",
   "metadata": {},
   "source": [
    "### How does the price of an app affect its installation count?"
   ]
  },
  {
   "cell_type": "code",
   "execution_count": 58,
   "id": "707976c4",
   "metadata": {},
   "outputs": [
    {
     "data": {
      "text/plain": [
       "-0.010594548509015337"
      ]
     },
     "execution_count": 58,
     "metadata": {},
     "output_type": "execute_result"
    }
   ],
   "source": [
    "data[\"Installs\"].corr(data[\"Price\"])"
   ]
  },
  {
   "cell_type": "code",
   "execution_count": 59,
   "id": "ce79eb1d",
   "metadata": {},
   "outputs": [
    {
     "data": {
      "image/png": "[encoded data removed]",
      "text/plain": [
       "<Figure size 1000x600 with 1 Axes>"
      ]
     },
     "metadata": {},
     "output_type": "display_data"
    }
   ],
   "source": [
    "# Scatter plot to visualize the relationship\n",
    "plt.figure(figsize=(10, 6))\n",
    "sns.scatterplot(data=data, x='Price', y='Installs')\n",
    "plt.title('Relationship between App Price and Installs')\n",
    "plt.xlabel('Price')\n",
    "plt.ylabel('Number of Installs')\n",
    "plt.show()"
   ]
  },
  {
   "cell_type": "markdown",
   "id": "a8649294",
   "metadata": {},
   "source": [
    "### Inference:\n",
    "* We find no significant relationship betweeb price of an app and Install Count"
   ]
  },
  {
   "cell_type": "markdown",
   "id": "f7e62a3a",
   "metadata": {},
   "source": [
    "### What is the distribution of installs across different content ratings?"
   ]
  },
  {
   "cell_type": "code",
   "execution_count": 60,
   "id": "06fc5ebb",
   "metadata": {},
   "outputs": [],
   "source": [
    "content_rating_installs = data.groupby(\"Content Rating\")[\"Installs\"].sum().to_frame().sort_values(\"Installs\",ascending=False).reset_index()"
   ]
  },
  {
   "cell_type": "code",
   "execution_count": 61,
   "id": "9a214cca",
   "metadata": {},
   "outputs": [
    {
     "data": {
      "text/html": [
       "<div>\n",
       "<style scoped>\n",
       "    .dataframe tbody tr th:only-of-type {\n",
       "        vertical-align: middle;\n",
       "    }\n",
       "\n",
       "    .dataframe tbody tr th {\n",
       "        vertical-align: top;\n",
       "    }\n",
       "\n",
       "    .dataframe thead th {\n",
       "        text-align: right;\n",
       "    }\n",
       "</style>\n",
       "<table border=\"1\" class=\"dataframe\">\n",
       "  <thead>\n",
       "    <tr style=\"text-align: right;\">\n",
       "      <th></th>\n",
       "      <th>Content Rating</th>\n",
       "      <th>Installs</th>\n",
       "    </tr>\n",
       "  </thead>\n",
       "  <tbody>\n",
       "    <tr>\n",
       "      <th>0</th>\n",
       "      <td>Everyone</td>\n",
       "      <td>37432679298</td>\n",
       "    </tr>\n",
       "    <tr>\n",
       "      <th>1</th>\n",
       "      <td>Teen</td>\n",
       "      <td>10461454110</td>\n",
       "    </tr>\n",
       "    <tr>\n",
       "      <th>2</th>\n",
       "      <td>Everyone 10+</td>\n",
       "      <td>8864534210</td>\n",
       "    </tr>\n",
       "    <tr>\n",
       "      <th>3</th>\n",
       "      <td>Mature 17+</td>\n",
       "      <td>1194480630</td>\n",
       "    </tr>\n",
       "    <tr>\n",
       "      <th>4</th>\n",
       "      <td>Adults only 18+</td>\n",
       "      <td>1500000</td>\n",
       "    </tr>\n",
       "    <tr>\n",
       "      <th>5</th>\n",
       "      <td>Unrated</td>\n",
       "      <td>50000</td>\n",
       "    </tr>\n",
       "  </tbody>\n",
       "</table>\n",
       "</div>"
      ],
      "text/plain": [
       "    Content Rating     Installs\n",
       "0         Everyone  37432679298\n",
       "1             Teen  10461454110\n",
       "2     Everyone 10+   8864534210\n",
       "3       Mature 17+   1194480630\n",
       "4  Adults only 18+      1500000\n",
       "5          Unrated        50000"
      ]
     },
     "execution_count": 61,
     "metadata": {},
     "output_type": "execute_result"
    }
   ],
   "source": [
    "content_rating_installs"
   ]
  },
  {
   "cell_type": "code",
   "execution_count": 62,
   "id": "0164d223",
   "metadata": {
    "scrolled": false
   },
   "outputs": [
    {
     "data": {
      "image/png": "[encoded data removed]",
      "text/plain": [
       "<Figure size 1200x800 with 1 Axes>"
      ]
     },
     "metadata": {},
     "output_type": "display_data"
    }
   ],
   "source": [
    "plt.figure(figsize=(12, 8))\n",
    "sns.barplot(data=content_rating_installs, x='Content Rating', y='Installs')\n",
    "plt.title('Total Number of Installs across Different Content Ratings')\n",
    "plt.xlabel('Content Rating')\n",
    "plt.ylabel('Total Number of Installs')\n",
    "plt.xticks(rotation=45)\n",
    "plt.show()"
   ]
  },
  {
   "cell_type": "markdown",
   "id": "63fe39d1",
   "metadata": {},
   "source": [
    "### Inference:\n",
    "* Majority of Installs were made from apps which had Content Rating **\"Everyone\"**.\n",
    "* Apps with Content Rating **\"Teen\"** and **\"Everyone 10+\"** have decent number of installs as well."
   ]
  },
  {
   "cell_type": "markdown",
   "id": "1c978801",
   "metadata": {},
   "source": [
    "## How do pricing strategies affect app performance?"
   ]
  },
  {
   "cell_type": "markdown",
   "id": "313fe5ae",
   "metadata": {},
   "source": [
    "### What is the relationship between app price and user rating?"
   ]
  },
  {
   "cell_type": "code",
   "execution_count": 63,
   "id": "f439e86a",
   "metadata": {},
   "outputs": [
    {
     "data": {
      "text/plain": [
       "-0.019367344021974455"
      ]
     },
     "execution_count": 63,
     "metadata": {},
     "output_type": "execute_result"
    }
   ],
   "source": [
    "data[\"Price\"].corr(data[\"Rating\"]) #finding the correlation"
   ]
  },
  {
   "cell_type": "code",
   "execution_count": 64,
   "id": "cd4f6e5c",
   "metadata": {
    "scrolled": false
   },
   "outputs": [
    {
     "data": {
      "image/png": "[encoded data removed]",
      "text/plain": [
       "<Figure size 640x480 with 1 Axes>"
      ]
     },
     "metadata": {},
     "output_type": "display_data"
    }
   ],
   "source": [
    "# Making a Visualisation of the result\n",
    "sns.scatterplot(x=\"Rating\",y=\"Price\",data=data)\n",
    "plt.title('Relation between App Price and User Rating')\n",
    "plt.xlabel('App Price')\n",
    "plt.ylabel('User Rating')\n",
    "plt.show()"
   ]
  },
  {
   "cell_type": "markdown",
   "id": "43250ab9",
   "metadata": {},
   "source": [
    "### Inference:\n",
    "* There is no significant relation between App Price and App Rating"
   ]
  },
  {
   "cell_type": "markdown",
   "id": "0c5ce41b",
   "metadata": {},
   "source": [
    "### How do the number of installs vary between free and paid apps?"
   ]
  },
  {
   "cell_type": "code",
   "execution_count": 65,
   "id": "ff37e4f4",
   "metadata": {},
   "outputs": [],
   "source": [
    "Installs_for_each_Type = data.groupby(\"Type\")[\"Installs\"].sum().reset_index()"
   ]
  },
  {
   "cell_type": "code",
   "execution_count": 66,
   "id": "ad67bf17",
   "metadata": {
    "scrolled": false
   },
   "outputs": [
    {
     "data": {
      "text/html": [
       "<div>\n",
       "<style scoped>\n",
       "    .dataframe tbody tr th:only-of-type {\n",
       "        vertical-align: middle;\n",
       "    }\n",
       "\n",
       "    .dataframe tbody tr th {\n",
       "        vertical-align: top;\n",
       "    }\n",
       "\n",
       "    .dataframe thead th {\n",
       "        text-align: right;\n",
       "    }\n",
       "</style>\n",
       "<table border=\"1\" class=\"dataframe\">\n",
       "  <thead>\n",
       "    <tr style=\"text-align: right;\">\n",
       "      <th></th>\n",
       "      <th>Type</th>\n",
       "      <th>Installs</th>\n",
       "    </tr>\n",
       "  </thead>\n",
       "  <tbody>\n",
       "    <tr>\n",
       "      <th>0</th>\n",
       "      <td>Free</td>\n",
       "      <td>57912545176</td>\n",
       "    </tr>\n",
       "    <tr>\n",
       "      <th>1</th>\n",
       "      <td>Paid</td>\n",
       "      <td>42153072</td>\n",
       "    </tr>\n",
       "  </tbody>\n",
       "</table>\n",
       "</div>"
      ],
      "text/plain": [
       "   Type     Installs\n",
       "0  Free  57912545176\n",
       "1  Paid     42153072"
      ]
     },
     "execution_count": 66,
     "metadata": {},
     "output_type": "execute_result"
    }
   ],
   "source": [
    "Installs_for_each_Type #result"
   ]
  },
  {
   "cell_type": "code",
   "execution_count": 67,
   "id": "5b29a5f4",
   "metadata": {
    "scrolled": false
   },
   "outputs": [
    {
     "data": {
      "image/png": "[encoded data removed]",
      "text/plain": [
       "<Figure size 1200x800 with 1 Axes>"
      ]
     },
     "metadata": {},
     "output_type": "display_data"
    }
   ],
   "source": [
    "plt.figure(figsize=(12, 8))\n",
    "plt.pie(Installs_for_each_Type[\"Installs\"], labels= Installs_for_each_Type['Type'], autopct='%1.1f%%', startangle=140)\n",
    "plt.title('Proportion of Installs by Type')\n",
    "plt.axis('equal')  # Equal aspect ratio ensures that pie is drawn as a circle.\n",
    "plt.show()"
   ]
  },
  {
   "cell_type": "markdown",
   "id": "2bbd4759",
   "metadata": {},
   "source": [
    "### Inference:\n",
    "* 99.9% of the apps installed by users are free.\n",
    "* Only 0.1% of the total apps installed are paid"
   ]
  },
  {
   "cell_type": "markdown",
   "id": "3ae1b7c8",
   "metadata": {},
   "source": [
    "### Are there certain price ranges that result in higher reviews and ratings?"
   ]
  },
  {
   "cell_type": "code",
   "execution_count": 68,
   "id": "2518613f",
   "metadata": {},
   "outputs": [],
   "source": [
    "pa = data[data[\"Type\"]==\"Paid\"] #pa (paid apps)"
   ]
  },
  {
   "cell_type": "code",
   "execution_count": 69,
   "id": "5aee89b7",
   "metadata": {},
   "outputs": [],
   "source": [
    "def pr(price):\n",
    "    if price <= 2:\n",
    "        return \"0-2\"\n",
    "    elif price <=4:\n",
    "        return \"2-4\"\n",
    "    else:\n",
    "        return \">4\""
   ]
  },
  {
   "cell_type": "code",
   "execution_count": 70,
   "id": "9d28370a",
   "metadata": {},
   "outputs": [],
   "source": [
    "pa[\"Price Range\"] = pa[\"Price\"].apply(pr)"
   ]
  },
  {
   "cell_type": "code",
   "execution_count": 71,
   "id": "00ce57bf",
   "metadata": {
    "scrolled": true
   },
   "outputs": [
    {
     "data": {
      "text/html": [
       "<div>\n",
       "<style scoped>\n",
       "    .dataframe tbody tr th:only-of-type {\n",
       "        vertical-align: middle;\n",
       "    }\n",
       "\n",
       "    .dataframe tbody tr th {\n",
       "        vertical-align: top;\n",
       "    }\n",
       "\n",
       "    .dataframe thead th {\n",
       "        text-align: right;\n",
       "    }\n",
       "</style>\n",
       "<table border=\"1\" class=\"dataframe\">\n",
       "  <thead>\n",
       "    <tr style=\"text-align: right;\">\n",
       "      <th></th>\n",
       "      <th>Price Range</th>\n",
       "      <th>Reviews</th>\n",
       "      <th>Rating</th>\n",
       "    </tr>\n",
       "  </thead>\n",
       "  <tbody>\n",
       "    <tr>\n",
       "      <th>0</th>\n",
       "      <td>0-2</td>\n",
       "      <td>8284.14</td>\n",
       "      <td>4.29</td>\n",
       "    </tr>\n",
       "    <tr>\n",
       "      <th>1</th>\n",
       "      <td>2-4</td>\n",
       "      <td>7795.00</td>\n",
       "      <td>4.29</td>\n",
       "    </tr>\n",
       "    <tr>\n",
       "      <th>2</th>\n",
       "      <td>&gt;4</td>\n",
       "      <td>6512.19</td>\n",
       "      <td>4.21</td>\n",
       "    </tr>\n",
       "  </tbody>\n",
       "</table>\n",
       "</div>"
      ],
      "text/plain": [
       "  Price Range  Reviews  Rating\n",
       "0         0-2  8284.14    4.29\n",
       "1         2-4  7795.00    4.29\n",
       "2          >4  6512.19    4.21"
      ]
     },
     "execution_count": 71,
     "metadata": {},
     "output_type": "execute_result"
    }
   ],
   "source": [
    "pa.groupby(\"Price Range\")[[\"Reviews\",\"Rating\"]].mean().reset_index()"
   ]
  },
  {
   "cell_type": "markdown",
   "id": "5c1f6247",
   "metadata": {},
   "source": [
    "### Inference:\n",
    "* The rating for all Price Ranges seem to be similar\n",
    "* We see a pattern that as the price of the App increases the number of reviews it gets seem to decrease"
   ]
  },
  {
   "cell_type": "markdown",
   "id": "1c9f27f6",
   "metadata": {},
   "source": [
    "## What are the characteristics of high-performing apps?"
   ]
  },
  {
   "cell_type": "markdown",
   "id": "27e6f7e1",
   "metadata": {},
   "source": [
    "### Which genres have the highest average ratings?"
   ]
  },
  {
   "cell_type": "code",
   "execution_count": 72,
   "id": "ae0756fc",
   "metadata": {
    "scrolled": true
   },
   "outputs": [
    {
     "data": {
      "text/html": [
       "<div>\n",
       "<style scoped>\n",
       "    .dataframe tbody tr th:only-of-type {\n",
       "        vertical-align: middle;\n",
       "    }\n",
       "\n",
       "    .dataframe tbody tr th {\n",
       "        vertical-align: top;\n",
       "    }\n",
       "\n",
       "    .dataframe thead th {\n",
       "        text-align: right;\n",
       "    }\n",
       "</style>\n",
       "<table border=\"1\" class=\"dataframe\">\n",
       "  <thead>\n",
       "    <tr style=\"text-align: right;\">\n",
       "      <th></th>\n",
       "      <th>Average Rating</th>\n",
       "    </tr>\n",
       "    <tr>\n",
       "      <th>Genres</th>\n",
       "      <th></th>\n",
       "    </tr>\n",
       "  </thead>\n",
       "  <tbody>\n",
       "    <tr>\n",
       "      <th>Comics;Creativity</th>\n",
       "      <td>4.80</td>\n",
       "    </tr>\n",
       "    <tr>\n",
       "      <th>Board;Pretend Play</th>\n",
       "      <td>4.80</td>\n",
       "    </tr>\n",
       "    <tr>\n",
       "      <th>Health &amp; Fitness;Education</th>\n",
       "      <td>4.70</td>\n",
       "    </tr>\n",
       "    <tr>\n",
       "      <th>Entertainment;Creativity</th>\n",
       "      <td>4.65</td>\n",
       "    </tr>\n",
       "    <tr>\n",
       "      <th>Puzzle;Education</th>\n",
       "      <td>4.60</td>\n",
       "    </tr>\n",
       "  </tbody>\n",
       "</table>\n",
       "</div>"
      ],
      "text/plain": [
       "                            Average Rating\n",
       "Genres                                    \n",
       "Comics;Creativity                     4.80\n",
       "Board;Pretend Play                    4.80\n",
       "Health & Fitness;Education            4.70\n",
       "Entertainment;Creativity              4.65\n",
       "Puzzle;Education                      4.60"
      ]
     },
     "execution_count": 72,
     "metadata": {},
     "output_type": "execute_result"
    }
   ],
   "source": [
    "data.groupby(\"Genres\")[\"Rating\"].mean().to_frame().rename(columns={\"Rating\":\"Average Rating\"}).sort_values(by=\"Average Rating\",ascending=False).head(5)"
   ]
  },
  {
   "cell_type": "markdown",
   "id": "10484782",
   "metadata": {},
   "source": [
    "### Top 5 App Categories with highest Average Ratings"
   ]
  },
  {
   "cell_type": "code",
   "execution_count": 73,
   "id": "2fed5098",
   "metadata": {
    "scrolled": false
   },
   "outputs": [
    {
     "data": {
      "text/html": [
       "<div>\n",
       "<style scoped>\n",
       "    .dataframe tbody tr th:only-of-type {\n",
       "        vertical-align: middle;\n",
       "    }\n",
       "\n",
       "    .dataframe tbody tr th {\n",
       "        vertical-align: top;\n",
       "    }\n",
       "\n",
       "    .dataframe thead th {\n",
       "        text-align: right;\n",
       "    }\n",
       "</style>\n",
       "<table border=\"1\" class=\"dataframe\">\n",
       "  <thead>\n",
       "    <tr style=\"text-align: right;\">\n",
       "      <th></th>\n",
       "      <th>Rating</th>\n",
       "    </tr>\n",
       "    <tr>\n",
       "      <th>Category</th>\n",
       "      <th></th>\n",
       "    </tr>\n",
       "  </thead>\n",
       "  <tbody>\n",
       "    <tr>\n",
       "      <th>EVENTS</th>\n",
       "      <td>4.47</td>\n",
       "    </tr>\n",
       "    <tr>\n",
       "      <th>EDUCATION</th>\n",
       "      <td>4.38</td>\n",
       "    </tr>\n",
       "    <tr>\n",
       "      <th>ART_AND_DESIGN</th>\n",
       "      <td>4.38</td>\n",
       "    </tr>\n",
       "    <tr>\n",
       "      <th>PARENTING</th>\n",
       "      <td>4.35</td>\n",
       "    </tr>\n",
       "    <tr>\n",
       "      <th>PERSONALIZATION</th>\n",
       "      <td>4.34</td>\n",
       "    </tr>\n",
       "  </tbody>\n",
       "</table>\n",
       "</div>"
      ],
      "text/plain": [
       "                 Rating\n",
       "Category               \n",
       "EVENTS             4.47\n",
       "EDUCATION          4.38\n",
       "ART_AND_DESIGN     4.38\n",
       "PARENTING          4.35\n",
       "PERSONALIZATION    4.34"
      ]
     },
     "execution_count": 73,
     "metadata": {},
     "output_type": "execute_result"
    }
   ],
   "source": [
    "data.groupby(\"Category\")[\"Rating\"].mean().to_frame().sort_values(by=\"Rating\",ascending=False).head(5)"
   ]
  },
  {
   "cell_type": "markdown",
   "id": "9eb3a110",
   "metadata": {},
   "source": [
    "### Content Rating with the highest Average Ratings"
   ]
  },
  {
   "cell_type": "code",
   "execution_count": 74,
   "id": "a9849ec5",
   "metadata": {},
   "outputs": [
    {
     "data": {
      "text/html": [
       "<div>\n",
       "<style scoped>\n",
       "    .dataframe tbody tr th:only-of-type {\n",
       "        vertical-align: middle;\n",
       "    }\n",
       "\n",
       "    .dataframe tbody tr th {\n",
       "        vertical-align: top;\n",
       "    }\n",
       "\n",
       "    .dataframe thead th {\n",
       "        text-align: right;\n",
       "    }\n",
       "</style>\n",
       "<table border=\"1\" class=\"dataframe\">\n",
       "  <thead>\n",
       "    <tr style=\"text-align: right;\">\n",
       "      <th></th>\n",
       "      <th>Rating</th>\n",
       "    </tr>\n",
       "    <tr>\n",
       "      <th>Content Rating</th>\n",
       "      <th></th>\n",
       "    </tr>\n",
       "  </thead>\n",
       "  <tbody>\n",
       "    <tr>\n",
       "      <th>Adults only 18+</th>\n",
       "      <td>4.55</td>\n",
       "    </tr>\n",
       "    <tr>\n",
       "      <th>Everyone 10+</th>\n",
       "      <td>4.26</td>\n",
       "    </tr>\n",
       "    <tr>\n",
       "      <th>Teen</th>\n",
       "      <td>4.23</td>\n",
       "    </tr>\n",
       "    <tr>\n",
       "      <th>Everyone</th>\n",
       "      <td>4.17</td>\n",
       "    </tr>\n",
       "    <tr>\n",
       "      <th>Mature 17+</th>\n",
       "      <td>4.10</td>\n",
       "    </tr>\n",
       "    <tr>\n",
       "      <th>Unrated</th>\n",
       "      <td>4.10</td>\n",
       "    </tr>\n",
       "  </tbody>\n",
       "</table>\n",
       "</div>"
      ],
      "text/plain": [
       "                 Rating\n",
       "Content Rating         \n",
       "Adults only 18+    4.55\n",
       "Everyone 10+       4.26\n",
       "Teen               4.23\n",
       "Everyone           4.17\n",
       "Mature 17+         4.10\n",
       "Unrated            4.10"
      ]
     },
     "execution_count": 74,
     "metadata": {},
     "output_type": "execute_result"
    }
   ],
   "source": [
    "data.groupby(\"Content Rating\")[\"Rating\"].mean().to_frame().sort_values(by=\"Rating\",ascending=False)"
   ]
  },
  {
   "cell_type": "markdown",
   "id": "ec1ed8a3",
   "metadata": {},
   "source": [
    "### Inference:\n",
    "Apps with \n",
    "* **Genres:** Comics;Creativity, Board;Pretend Play, Health & Fitness;Education, Entertainment;Creativity, Puzzle;Education\n",
    "\n",
    "* **Category:** EVENTS, EDUCATION, ART_AND_DESIGN, PARENTING, PERSONALIZATION\n",
    "\n",
    "* **Content Rating:** Adults only 18+, Everyone 10+\n",
    "\n",
    "seem to be performing better."
   ]
  },
  {
   "cell_type": "markdown",
   "id": "6c552b31",
   "metadata": {},
   "source": [
    "## What is the demographic distribution of apps in the PlayStore?"
   ]
  },
  {
   "cell_type": "markdown",
   "id": "4813730f",
   "metadata": {},
   "source": [
    "### What proportion of apps fall under each content rating category?"
   ]
  },
  {
   "cell_type": "code",
   "execution_count": 75,
   "id": "378f51a5",
   "metadata": {
    "scrolled": true
   },
   "outputs": [],
   "source": [
    "Category_Apps_Count = data.groupby(\"Content Rating\")[\"App\"].count().reset_index()"
   ]
  },
  {
   "cell_type": "code",
   "execution_count": 76,
   "id": "b91f8813",
   "metadata": {},
   "outputs": [],
   "source": [
    "def prop(val):\n",
    "    total = Category_Apps_Count[\"App\"].sum()\n",
    "    return val*100/total"
   ]
  },
  {
   "cell_type": "code",
   "execution_count": 77,
   "id": "33c27142",
   "metadata": {},
   "outputs": [],
   "source": [
    "Category_Apps_Count[\"Proportion of Apps\"] = Category_Apps_Count[\"App\"].apply(prop)"
   ]
  },
  {
   "cell_type": "code",
   "execution_count": 78,
   "id": "ea8edb1f",
   "metadata": {
    "scrolled": false
   },
   "outputs": [
    {
     "data": {
      "text/html": [
       "<div>\n",
       "<style scoped>\n",
       "    .dataframe tbody tr th:only-of-type {\n",
       "        vertical-align: middle;\n",
       "    }\n",
       "\n",
       "    .dataframe tbody tr th {\n",
       "        vertical-align: top;\n",
       "    }\n",
       "\n",
       "    .dataframe thead th {\n",
       "        text-align: right;\n",
       "    }\n",
       "</style>\n",
       "<table border=\"1\" class=\"dataframe\">\n",
       "  <thead>\n",
       "    <tr style=\"text-align: right;\">\n",
       "      <th></th>\n",
       "      <th>Content Rating</th>\n",
       "      <th>App</th>\n",
       "      <th>Proportion of Apps</th>\n",
       "    </tr>\n",
       "  </thead>\n",
       "  <tbody>\n",
       "    <tr>\n",
       "      <th>1</th>\n",
       "      <td>Everyone</td>\n",
       "      <td>5704</td>\n",
       "      <td>79.64</td>\n",
       "    </tr>\n",
       "    <tr>\n",
       "      <th>4</th>\n",
       "      <td>Teen</td>\n",
       "      <td>826</td>\n",
       "      <td>11.53</td>\n",
       "    </tr>\n",
       "    <tr>\n",
       "      <th>3</th>\n",
       "      <td>Mature 17+</td>\n",
       "      <td>331</td>\n",
       "      <td>4.62</td>\n",
       "    </tr>\n",
       "    <tr>\n",
       "      <th>2</th>\n",
       "      <td>Everyone 10+</td>\n",
       "      <td>298</td>\n",
       "      <td>4.16</td>\n",
       "    </tr>\n",
       "    <tr>\n",
       "      <th>0</th>\n",
       "      <td>Adults only 18+</td>\n",
       "      <td>2</td>\n",
       "      <td>0.03</td>\n",
       "    </tr>\n",
       "    <tr>\n",
       "      <th>5</th>\n",
       "      <td>Unrated</td>\n",
       "      <td>1</td>\n",
       "      <td>0.01</td>\n",
       "    </tr>\n",
       "  </tbody>\n",
       "</table>\n",
       "</div>"
      ],
      "text/plain": [
       "    Content Rating   App  Proportion of Apps\n",
       "1         Everyone  5704               79.64\n",
       "4             Teen   826               11.53\n",
       "3       Mature 17+   331                4.62\n",
       "2     Everyone 10+   298                4.16\n",
       "0  Adults only 18+     2                0.03\n",
       "5          Unrated     1                0.01"
      ]
     },
     "execution_count": 78,
     "metadata": {},
     "output_type": "execute_result"
    }
   ],
   "source": [
    "Category_Apps_Count.sort_values(by=\"Proportion of Apps\",ascending=False)"
   ]
  },
  {
   "cell_type": "code",
   "execution_count": 79,
   "id": "2d6cce8d",
   "metadata": {},
   "outputs": [
    {
     "data": {
      "text/html": [
       "<div>\n",
       "<style scoped>\n",
       "    .dataframe tbody tr th:only-of-type {\n",
       "        vertical-align: middle;\n",
       "    }\n",
       "\n",
       "    .dataframe tbody tr th {\n",
       "        vertical-align: top;\n",
       "    }\n",
       "\n",
       "    .dataframe thead th {\n",
       "        text-align: right;\n",
       "    }\n",
       "</style>\n",
       "<table border=\"1\" class=\"dataframe\">\n",
       "  <thead>\n",
       "    <tr style=\"text-align: right;\">\n",
       "      <th></th>\n",
       "      <th>Content Rating</th>\n",
       "      <th>Proportion of Apps</th>\n",
       "    </tr>\n",
       "  </thead>\n",
       "  <tbody>\n",
       "    <tr>\n",
       "      <th>1</th>\n",
       "      <td>Everyone</td>\n",
       "      <td>79.64</td>\n",
       "    </tr>\n",
       "    <tr>\n",
       "      <th>4</th>\n",
       "      <td>Teen</td>\n",
       "      <td>11.53</td>\n",
       "    </tr>\n",
       "    <tr>\n",
       "      <th>3</th>\n",
       "      <td>Mature 17+</td>\n",
       "      <td>4.62</td>\n",
       "    </tr>\n",
       "    <tr>\n",
       "      <th>2</th>\n",
       "      <td>Everyone 10+</td>\n",
       "      <td>4.16</td>\n",
       "    </tr>\n",
       "    <tr>\n",
       "      <th>0</th>\n",
       "      <td>Adults only 18+</td>\n",
       "      <td>0.03</td>\n",
       "    </tr>\n",
       "    <tr>\n",
       "      <th>5</th>\n",
       "      <td>Unrated</td>\n",
       "      <td>0.01</td>\n",
       "    </tr>\n",
       "  </tbody>\n",
       "</table>\n",
       "</div>"
      ],
      "text/plain": [
       "    Content Rating  Proportion of Apps\n",
       "1         Everyone               79.64\n",
       "4             Teen               11.53\n",
       "3       Mature 17+                4.62\n",
       "2     Everyone 10+                4.16\n",
       "0  Adults only 18+                0.03\n",
       "5          Unrated                0.01"
      ]
     },
     "execution_count": 79,
     "metadata": {},
     "output_type": "execute_result"
    }
   ],
   "source": [
    "Category_Apps_Count[[\"Content Rating\",\"Proportion of Apps\"]].sort_values(by=\"Proportion of Apps\",ascending=False)"
   ]
  },
  {
   "cell_type": "code",
   "execution_count": 80,
   "id": "2031db3e",
   "metadata": {},
   "outputs": [
    {
     "data": {
      "image/png": "[encoded data removed]",
      "text/plain": [
       "<Figure size 1200x800 with 1 Axes>"
      ]
     },
     "metadata": {},
     "output_type": "display_data"
    }
   ],
   "source": [
    "#Visualisation\n",
    "plt.figure(figsize=(12, 8))\n",
    "plt.pie(Category_Apps_Count[\"App\"], labels= Category_Apps_Count['Content Rating'], autopct='%1.1f%%', startangle=140)\n",
    "plt.title('Proportion of Apps by Content Rating')\n",
    "plt.axis('equal')  # Equal aspect ratio ensures that pie is drawn as a circle.\n",
    "plt.show()"
   ]
  },
  {
   "cell_type": "markdown",
   "id": "3137d38e",
   "metadata": {},
   "source": [
    "### Inference:\n",
    "Based on the analysis, the majority of apps on the PlayStore are rated 'Everyone', comprising 79.64% of the total apps. 'Teen' rated apps make up 11.53%, while 'Mature 17+' and 'Everyone 10+' account for 4.62% and 4.16% respectively. The 'Adults only 18+' and 'Unrated' categories have the smallest proportions, with just 0.03% and 0.01% of the apps, indicating a limited number of applications targeted exclusively at adults or those without a rating."
   ]
  },
  {
   "cell_type": "markdown",
   "id": "ae11524e",
   "metadata": {},
   "source": [
    "### Which categories have the highest number of apps?"
   ]
  },
  {
   "cell_type": "code",
   "execution_count": 81,
   "id": "a11731f3",
   "metadata": {
    "scrolled": true
   },
   "outputs": [
    {
     "data": {
      "text/html": [
       "<div>\n",
       "<style scoped>\n",
       "    .dataframe tbody tr th:only-of-type {\n",
       "        vertical-align: middle;\n",
       "    }\n",
       "\n",
       "    .dataframe tbody tr th {\n",
       "        vertical-align: top;\n",
       "    }\n",
       "\n",
       "    .dataframe thead th {\n",
       "        text-align: right;\n",
       "    }\n",
       "</style>\n",
       "<table border=\"1\" class=\"dataframe\">\n",
       "  <thead>\n",
       "    <tr style=\"text-align: right;\">\n",
       "      <th></th>\n",
       "      <th>App</th>\n",
       "    </tr>\n",
       "    <tr>\n",
       "      <th>Category</th>\n",
       "      <th></th>\n",
       "    </tr>\n",
       "  </thead>\n",
       "  <tbody>\n",
       "    <tr>\n",
       "      <th>FAMILY</th>\n",
       "      <td>1568</td>\n",
       "    </tr>\n",
       "    <tr>\n",
       "      <th>GAME</th>\n",
       "      <td>956</td>\n",
       "    </tr>\n",
       "    <tr>\n",
       "      <th>TOOLS</th>\n",
       "      <td>563</td>\n",
       "    </tr>\n",
       "    <tr>\n",
       "      <th>LIFESTYLE</th>\n",
       "      <td>265</td>\n",
       "    </tr>\n",
       "    <tr>\n",
       "      <th>MEDICAL</th>\n",
       "      <td>264</td>\n",
       "    </tr>\n",
       "  </tbody>\n",
       "</table>\n",
       "</div>"
      ],
      "text/plain": [
       "            App\n",
       "Category       \n",
       "FAMILY     1568\n",
       "GAME        956\n",
       "TOOLS       563\n",
       "LIFESTYLE   265\n",
       "MEDICAL     264"
      ]
     },
     "execution_count": 81,
     "metadata": {},
     "output_type": "execute_result"
    }
   ],
   "source": [
    "data.groupby(\"Category\")[\"App\"].count().to_frame().sort_values(by=\"App\",ascending=False).head(5)"
   ]
  },
  {
   "cell_type": "markdown",
   "id": "84f4f50d",
   "metadata": {},
   "source": [
    "Above we see the top 5 Categories with the highest number of Apps"
   ]
  },
  {
   "cell_type": "markdown",
   "id": "18e44afa",
   "metadata": {},
   "source": [
    "### Inference: \n",
    "The **'FAMILY'** category has the highest number of apps, indicating a strong focus on family-oriented applications within the PlayStore. The **'GAME'** category follows closely, highlighting its significant popularity and demand among users. The presence of **'TOOLS', 'LIFESTYLE', and 'MEDICAL'** in the top five categories suggests a diverse range of utility, personal well-being, and health-related apps that cater to essential user needs."
   ]
  },
  {
   "cell_type": "code",
   "execution_count": 82,
   "id": "cbe240d2",
   "metadata": {},
   "outputs": [
    {
     "data": {
      "text/html": [
       "<div>\n",
       "<style scoped>\n",
       "    .dataframe tbody tr th:only-of-type {\n",
       "        vertical-align: middle;\n",
       "    }\n",
       "\n",
       "    .dataframe tbody tr th {\n",
       "        vertical-align: top;\n",
       "    }\n",
       "\n",
       "    .dataframe thead th {\n",
       "        text-align: right;\n",
       "    }\n",
       "</style>\n",
       "<table border=\"1\" class=\"dataframe\">\n",
       "  <thead>\n",
       "    <tr style=\"text-align: right;\">\n",
       "      <th></th>\n",
       "      <th>App</th>\n",
       "      <th>Category</th>\n",
       "      <th>Rating</th>\n",
       "      <th>Reviews</th>\n",
       "      <th>Size</th>\n",
       "      <th>Installs</th>\n",
       "      <th>Type</th>\n",
       "      <th>Price</th>\n",
       "      <th>Content Rating</th>\n",
       "      <th>Genres</th>\n",
       "      <th>Rating_category</th>\n",
       "      <th>Transformed_Reviews</th>\n",
       "    </tr>\n",
       "  </thead>\n",
       "  <tbody>\n",
       "    <tr>\n",
       "      <th>4619</th>\n",
       "      <td>Don't Starve: Shipwrecked</td>\n",
       "      <td>GAME</td>\n",
       "      <td>4.10</td>\n",
       "      <td>1468</td>\n",
       "      <td>4900000.00</td>\n",
       "      <td>10000</td>\n",
       "      <td>Paid</td>\n",
       "      <td>4.99</td>\n",
       "      <td>Teen</td>\n",
       "      <td>Adventure</td>\n",
       "      <td>high</td>\n",
       "      <td>7.29</td>\n",
       "    </tr>\n",
       "  </tbody>\n",
       "</table>\n",
       "</div>"
      ],
      "text/plain": [
       "                            App Category  Rating  Reviews       Size  \\\n",
       "4619  Don't Starve: Shipwrecked     GAME    4.10     1468 4900000.00   \n",
       "\n",
       "      Installs  Type  Price Content Rating     Genres Rating_category  \\\n",
       "4619     10000  Paid   4.99           Teen  Adventure            high   \n",
       "\n",
       "      Transformed_Reviews  \n",
       "4619                 7.29  "
      ]
     },
     "execution_count": 82,
     "metadata": {},
     "output_type": "execute_result"
    }
   ],
   "source": [
    "data.sample()"
   ]
  },
  {
   "cell_type": "markdown",
   "id": "277df35c",
   "metadata": {},
   "source": [
    "## Data Preprocessing"
   ]
  },
  {
   "cell_type": "markdown",
   "id": "04b1b163",
   "metadata": {},
   "source": [
    "### Droping the columns which are redundant for the analysis.(suggestion: drop column 'rating', since we created a new feature from it (i.e. rating_category) and the columns 'App', 'Rating' and 'Genres' columns since which are redundant for our analysis)"
   ]
  },
  {
   "cell_type": "markdown",
   "id": "932cd075",
   "metadata": {},
   "source": [
    "* **As mentioned we will drop the column 'rating' as we already have created a new feature name rating_category**\n",
    "\n",
    "* **We will drop 'Reviews' column since we have made a new feature named 'Transformed_Reviews'**\n",
    "\n",
    "* **We will also drop columns 'App','Rating','Generes','Last Updated','Current Ver' and 'Andriod ver' since it is specified that they are redundant for our analysis**"
   ]
  },
  {
   "cell_type": "code",
   "execution_count": 83,
   "id": "922509a2",
   "metadata": {},
   "outputs": [],
   "source": [
    "dropped_columns = ['Rating','Reviews','App','Genres']"
   ]
  },
  {
   "cell_type": "code",
   "execution_count": 84,
   "id": "83865902",
   "metadata": {},
   "outputs": [],
   "source": [
    "data.drop(columns = dropped_columns, inplace = True)"
   ]
  },
  {
   "cell_type": "code",
   "execution_count": 85,
   "id": "081ae743",
   "metadata": {
    "scrolled": false
   },
   "outputs": [
    {
     "data": {
      "text/html": [
       "<div>\n",
       "<style scoped>\n",
       "    .dataframe tbody tr th:only-of-type {\n",
       "        vertical-align: middle;\n",
       "    }\n",
       "\n",
       "    .dataframe tbody tr th {\n",
       "        vertical-align: top;\n",
       "    }\n",
       "\n",
       "    .dataframe thead th {\n",
       "        text-align: right;\n",
       "    }\n",
       "</style>\n",
       "<table border=\"1\" class=\"dataframe\">\n",
       "  <thead>\n",
       "    <tr style=\"text-align: right;\">\n",
       "      <th></th>\n",
       "      <th>Category</th>\n",
       "      <th>Size</th>\n",
       "      <th>Installs</th>\n",
       "      <th>Type</th>\n",
       "      <th>Price</th>\n",
       "      <th>Content Rating</th>\n",
       "      <th>Rating_category</th>\n",
       "      <th>Transformed_Reviews</th>\n",
       "    </tr>\n",
       "  </thead>\n",
       "  <tbody>\n",
       "    <tr>\n",
       "      <th>0</th>\n",
       "      <td>ART_AND_DESIGN</td>\n",
       "      <td>19000000.00</td>\n",
       "      <td>10000</td>\n",
       "      <td>Free</td>\n",
       "      <td>0.00</td>\n",
       "      <td>Everyone</td>\n",
       "      <td>high</td>\n",
       "      <td>5.07</td>\n",
       "    </tr>\n",
       "    <tr>\n",
       "      <th>1</th>\n",
       "      <td>ART_AND_DESIGN</td>\n",
       "      <td>14000000.00</td>\n",
       "      <td>500000</td>\n",
       "      <td>Free</td>\n",
       "      <td>0.00</td>\n",
       "      <td>Everyone</td>\n",
       "      <td>high</td>\n",
       "      <td>6.87</td>\n",
       "    </tr>\n",
       "  </tbody>\n",
       "</table>\n",
       "</div>"
      ],
      "text/plain": [
       "         Category        Size  Installs  Type  Price Content Rating  \\\n",
       "0  ART_AND_DESIGN 19000000.00     10000  Free   0.00       Everyone   \n",
       "1  ART_AND_DESIGN 14000000.00    500000  Free   0.00       Everyone   \n",
       "\n",
       "  Rating_category  Transformed_Reviews  \n",
       "0            high                 5.07  \n",
       "1            high                 6.87  "
      ]
     },
     "execution_count": 85,
     "metadata": {},
     "output_type": "execute_result"
    }
   ],
   "source": [
    "data.head(2) #Data after removing the redundant columns"
   ]
  },
  {
   "cell_type": "markdown",
   "id": "dd94c35e",
   "metadata": {},
   "source": [
    "## Encode the categorical columns"
   ]
  },
  {
   "cell_type": "code",
   "execution_count": 86,
   "id": "c9e57008",
   "metadata": {
    "scrolled": true
   },
   "outputs": [
    {
     "name": "stdout",
     "output_type": "stream",
     "text": [
      "<class 'pandas.core.frame.DataFrame'>\n",
      "Int64Index: 7162 entries, 0 to 10840\n",
      "Data columns (total 8 columns):\n",
      " #   Column               Non-Null Count  Dtype  \n",
      "---  ------               --------------  -----  \n",
      " 0   Category             7162 non-null   object \n",
      " 1   Size                 7162 non-null   float64\n",
      " 2   Installs             7162 non-null   int64  \n",
      " 3   Type                 7162 non-null   object \n",
      " 4   Price                7162 non-null   float64\n",
      " 5   Content Rating       7162 non-null   object \n",
      " 6   Rating_category      7162 non-null   object \n",
      " 7   Transformed_Reviews  7162 non-null   float64\n",
      "dtypes: float64(3), int64(1), object(4)\n",
      "memory usage: 503.6+ KB\n"
     ]
    }
   ],
   "source": [
    "data.info()"
   ]
  },
  {
   "cell_type": "markdown",
   "id": "c8da1240",
   "metadata": {},
   "source": [
    "* **We see that there are 4 categorical columns in the data.**\n",
    "* **Those 4 categorical columns are 'Category','Type','Content Rating', and 'Rating_category'**\n",
    "* **We will consider using label encoding**"
   ]
  },
  {
   "cell_type": "code",
   "execution_count": 87,
   "id": "9057e474",
   "metadata": {},
   "outputs": [],
   "source": [
    "label_encoder = LabelEncoder()\n",
    "for column in ['Category','Type','Content Rating','Rating_category']:\n",
    "    data[column] = label_encoder.fit_transform(data[column])"
   ]
  },
  {
   "cell_type": "code",
   "execution_count": 88,
   "id": "ccad2914",
   "metadata": {
    "scrolled": true
   },
   "outputs": [
    {
     "data": {
      "text/html": [
       "<div>\n",
       "<style scoped>\n",
       "    .dataframe tbody tr th:only-of-type {\n",
       "        vertical-align: middle;\n",
       "    }\n",
       "\n",
       "    .dataframe tbody tr th {\n",
       "        vertical-align: top;\n",
       "    }\n",
       "\n",
       "    .dataframe thead th {\n",
       "        text-align: right;\n",
       "    }\n",
       "</style>\n",
       "<table border=\"1\" class=\"dataframe\">\n",
       "  <thead>\n",
       "    <tr style=\"text-align: right;\">\n",
       "      <th></th>\n",
       "      <th>Category</th>\n",
       "      <th>Size</th>\n",
       "      <th>Installs</th>\n",
       "      <th>Type</th>\n",
       "      <th>Price</th>\n",
       "      <th>Content Rating</th>\n",
       "      <th>Rating_category</th>\n",
       "      <th>Transformed_Reviews</th>\n",
       "    </tr>\n",
       "  </thead>\n",
       "  <tbody>\n",
       "    <tr>\n",
       "      <th>7824</th>\n",
       "      <td>14</td>\n",
       "      <td>7500000.00</td>\n",
       "      <td>100000</td>\n",
       "      <td>0</td>\n",
       "      <td>0.00</td>\n",
       "      <td>4</td>\n",
       "      <td>0</td>\n",
       "      <td>8.51</td>\n",
       "    </tr>\n",
       "    <tr>\n",
       "      <th>3784</th>\n",
       "      <td>21</td>\n",
       "      <td>27000000.00</td>\n",
       "      <td>10000000</td>\n",
       "      <td>0</td>\n",
       "      <td>0.00</td>\n",
       "      <td>1</td>\n",
       "      <td>0</td>\n",
       "      <td>11.03</td>\n",
       "    </tr>\n",
       "    <tr>\n",
       "      <th>7427</th>\n",
       "      <td>6</td>\n",
       "      <td>13000000.00</td>\n",
       "      <td>100</td>\n",
       "      <td>0</td>\n",
       "      <td>0.00</td>\n",
       "      <td>1</td>\n",
       "      <td>1</td>\n",
       "      <td>1.61</td>\n",
       "    </tr>\n",
       "  </tbody>\n",
       "</table>\n",
       "</div>"
      ],
      "text/plain": [
       "      Category        Size  Installs  Type  Price  Content Rating  \\\n",
       "7824        14  7500000.00    100000     0   0.00               4   \n",
       "3784        21 27000000.00  10000000     0   0.00               1   \n",
       "7427         6 13000000.00       100     0   0.00               1   \n",
       "\n",
       "      Rating_category  Transformed_Reviews  \n",
       "7824                0                 8.51  \n",
       "3784                0                11.03  \n",
       "7427                1                 1.61  "
      ]
     },
     "execution_count": 88,
     "metadata": {},
     "output_type": "execute_result"
    }
   ],
   "source": [
    "data.sample(3) #All the categorical columns have been label encoded"
   ]
  },
  {
   "cell_type": "code",
   "execution_count": 89,
   "id": "1f3cacc4",
   "metadata": {
    "scrolled": false
   },
   "outputs": [
    {
     "name": "stdout",
     "output_type": "stream",
     "text": [
      "<class 'pandas.core.frame.DataFrame'>\n",
      "Int64Index: 7162 entries, 0 to 10840\n",
      "Data columns (total 8 columns):\n",
      " #   Column               Non-Null Count  Dtype  \n",
      "---  ------               --------------  -----  \n",
      " 0   Category             7162 non-null   int32  \n",
      " 1   Size                 7162 non-null   float64\n",
      " 2   Installs             7162 non-null   int64  \n",
      " 3   Type                 7162 non-null   int32  \n",
      " 4   Price                7162 non-null   float64\n",
      " 5   Content Rating       7162 non-null   int32  \n",
      " 6   Rating_category      7162 non-null   int32  \n",
      " 7   Transformed_Reviews  7162 non-null   float64\n",
      "dtypes: float64(3), int32(4), int64(1)\n",
      "memory usage: 391.7 KB\n"
     ]
    }
   ],
   "source": [
    "data.info() #all object data types have been converted into a suitable data numeric data type"
   ]
  },
  {
   "cell_type": "markdown",
   "id": "ee46f8e4",
   "metadata": {},
   "source": [
    "## Segregate the target and independent features (Using Rating_category as the target)"
   ]
  },
  {
   "cell_type": "code",
   "execution_count": 90,
   "id": "fba902dd",
   "metadata": {},
   "outputs": [],
   "source": [
    "target = data['Rating_category']\n",
    "ind_features = data[['Category','Size','Installs','Type','Price','Content Rating','Transformed_Reviews']]"
   ]
  },
  {
   "cell_type": "code",
   "execution_count": 91,
   "id": "3746b1c7",
   "metadata": {
    "scrolled": true
   },
   "outputs": [
    {
     "data": {
      "text/plain": [
       "9968    0\n",
       "8526    0\n",
       "Name: Rating_category, dtype: int32"
      ]
     },
     "execution_count": 91,
     "metadata": {},
     "output_type": "execute_result"
    }
   ],
   "source": [
    "target.sample(2)"
   ]
  },
  {
   "cell_type": "code",
   "execution_count": 92,
   "id": "8d1bc501",
   "metadata": {},
   "outputs": [
    {
     "data": {
      "text/html": [
       "<div>\n",
       "<style scoped>\n",
       "    .dataframe tbody tr th:only-of-type {\n",
       "        vertical-align: middle;\n",
       "    }\n",
       "\n",
       "    .dataframe tbody tr th {\n",
       "        vertical-align: top;\n",
       "    }\n",
       "\n",
       "    .dataframe thead th {\n",
       "        text-align: right;\n",
       "    }\n",
       "</style>\n",
       "<table border=\"1\" class=\"dataframe\">\n",
       "  <thead>\n",
       "    <tr style=\"text-align: right;\">\n",
       "      <th></th>\n",
       "      <th>Category</th>\n",
       "      <th>Size</th>\n",
       "      <th>Installs</th>\n",
       "      <th>Type</th>\n",
       "      <th>Price</th>\n",
       "      <th>Content Rating</th>\n",
       "      <th>Transformed_Reviews</th>\n",
       "    </tr>\n",
       "  </thead>\n",
       "  <tbody>\n",
       "    <tr>\n",
       "      <th>10715</th>\n",
       "      <td>7</td>\n",
       "      <td>1400000.00</td>\n",
       "      <td>100000</td>\n",
       "      <td>0</td>\n",
       "      <td>0.00</td>\n",
       "      <td>3</td>\n",
       "      <td>7.04</td>\n",
       "    </tr>\n",
       "    <tr>\n",
       "      <th>8751</th>\n",
       "      <td>13</td>\n",
       "      <td>36000000.00</td>\n",
       "      <td>1000000</td>\n",
       "      <td>0</td>\n",
       "      <td>0.00</td>\n",
       "      <td>1</td>\n",
       "      <td>9.23</td>\n",
       "    </tr>\n",
       "  </tbody>\n",
       "</table>\n",
       "</div>"
      ],
      "text/plain": [
       "       Category        Size  Installs  Type  Price  Content Rating  \\\n",
       "10715         7  1400000.00    100000     0   0.00               3   \n",
       "8751         13 36000000.00   1000000     0   0.00               1   \n",
       "\n",
       "       Transformed_Reviews  \n",
       "10715                 7.04  \n",
       "8751                  9.23  "
      ]
     },
     "execution_count": 92,
     "metadata": {},
     "output_type": "execute_result"
    }
   ],
   "source": [
    "ind_features.sample(2)"
   ]
  },
  {
   "cell_type": "markdown",
   "id": "51ae03ff",
   "metadata": {},
   "source": [
    "## Split the dataset into train and test"
   ]
  },
  {
   "cell_type": "markdown",
   "id": "d88574ec",
   "metadata": {},
   "source": [
    "**we use variable X for independent features and y variable for target feature**"
   ]
  },
  {
   "cell_type": "code",
   "execution_count": 93,
   "id": "6aa5555f",
   "metadata": {},
   "outputs": [],
   "source": [
    "X = ind_features\n",
    "y = target"
   ]
  },
  {
   "cell_type": "markdown",
   "id": "f13e1abe",
   "metadata": {},
   "source": [
    "**We use train_test_split to split the dataset into train and test**"
   ]
  },
  {
   "cell_type": "code",
   "execution_count": 94,
   "id": "0150e33e",
   "metadata": {
    "scrolled": true
   },
   "outputs": [
    {
     "name": "stdout",
     "output_type": "stream",
     "text": [
      "X_train: (5013, 7) y_train: (5013,)\n",
      "X_test: (2149, 7) y_test: (2149,)\n"
     ]
    }
   ],
   "source": [
    "X_train, X_test, y_train, y_test = train_test_split(X,y, test_size=0.30, random_state=42)\n",
    "print(\"X_train:\",X_train.shape, \"y_train:\",y_train.shape)\n",
    "print(\"X_test:\",X_test.shape, \"y_test:\",y_test.shape)"
   ]
  },
  {
   "cell_type": "markdown",
   "id": "f4add812",
   "metadata": {},
   "source": [
    "## Standardize the data, so that the values are within a particular range"
   ]
  },
  {
   "cell_type": "markdown",
   "id": "a49e9c39",
   "metadata": {},
   "source": [
    "**We will opt for Min_Max Scaling since it is mentioned that the values should be within a particular range.**"
   ]
  },
  {
   "cell_type": "code",
   "execution_count": 95,
   "id": "c7f44c80",
   "metadata": {},
   "outputs": [],
   "source": [
    "minmax_scale = MinMaxScaler(feature_range = (0,1))"
   ]
  },
  {
   "cell_type": "code",
   "execution_count": 96,
   "id": "92700e64",
   "metadata": {},
   "outputs": [],
   "source": [
    "data = minmax_scale.fit_transform(data)"
   ]
  },
  {
   "cell_type": "markdown",
   "id": "5a910b82",
   "metadata": {},
   "source": [
    "**Here the output of the scaling operation is an array not a data frame.** \n",
    "\n",
    "**But we can convert it back to a dataframe if required.**"
   ]
  },
  {
   "cell_type": "code",
   "execution_count": 97,
   "id": "875e7eae",
   "metadata": {
    "scrolled": true
   },
   "outputs": [
    {
     "data": {
      "text/html": [
       "<div>\n",
       "<style scoped>\n",
       "    .dataframe tbody tr th:only-of-type {\n",
       "        vertical-align: middle;\n",
       "    }\n",
       "\n",
       "    .dataframe tbody tr th {\n",
       "        vertical-align: top;\n",
       "    }\n",
       "\n",
       "    .dataframe thead th {\n",
       "        text-align: right;\n",
       "    }\n",
       "</style>\n",
       "<table border=\"1\" class=\"dataframe\">\n",
       "  <thead>\n",
       "    <tr style=\"text-align: right;\">\n",
       "      <th></th>\n",
       "      <th>0</th>\n",
       "      <th>1</th>\n",
       "      <th>2</th>\n",
       "      <th>3</th>\n",
       "      <th>4</th>\n",
       "      <th>5</th>\n",
       "      <th>6</th>\n",
       "      <th>7</th>\n",
       "    </tr>\n",
       "  </thead>\n",
       "  <tbody>\n",
       "    <tr>\n",
       "      <th>0</th>\n",
       "      <td>0.00</td>\n",
       "      <td>0.18</td>\n",
       "      <td>0.00</td>\n",
       "      <td>0.00</td>\n",
       "      <td>0.00</td>\n",
       "      <td>0.20</td>\n",
       "      <td>0.00</td>\n",
       "      <td>0.32</td>\n",
       "    </tr>\n",
       "    <tr>\n",
       "      <th>1</th>\n",
       "      <td>0.00</td>\n",
       "      <td>0.13</td>\n",
       "      <td>0.00</td>\n",
       "      <td>0.00</td>\n",
       "      <td>0.00</td>\n",
       "      <td>0.20</td>\n",
       "      <td>0.00</td>\n",
       "      <td>0.44</td>\n",
       "    </tr>\n",
       "    <tr>\n",
       "      <th>2</th>\n",
       "      <td>0.00</td>\n",
       "      <td>0.08</td>\n",
       "      <td>0.00</td>\n",
       "      <td>0.00</td>\n",
       "      <td>0.00</td>\n",
       "      <td>0.20</td>\n",
       "      <td>0.00</td>\n",
       "      <td>0.73</td>\n",
       "    </tr>\n",
       "    <tr>\n",
       "      <th>3</th>\n",
       "      <td>0.00</td>\n",
       "      <td>0.24</td>\n",
       "      <td>0.05</td>\n",
       "      <td>0.00</td>\n",
       "      <td>0.00</td>\n",
       "      <td>0.80</td>\n",
       "      <td>0.00</td>\n",
       "      <td>0.79</td>\n",
       "    </tr>\n",
       "    <tr>\n",
       "      <th>4</th>\n",
       "      <td>0.00</td>\n",
       "      <td>0.02</td>\n",
       "      <td>0.00</td>\n",
       "      <td>0.00</td>\n",
       "      <td>0.00</td>\n",
       "      <td>0.20</td>\n",
       "      <td>0.00</td>\n",
       "      <td>0.44</td>\n",
       "    </tr>\n",
       "  </tbody>\n",
       "</table>\n",
       "</div>"
      ],
      "text/plain": [
       "     0    1    2    3    4    5    6    7\n",
       "0 0.00 0.18 0.00 0.00 0.00 0.20 0.00 0.32\n",
       "1 0.00 0.13 0.00 0.00 0.00 0.20 0.00 0.44\n",
       "2 0.00 0.08 0.00 0.00 0.00 0.20 0.00 0.73\n",
       "3 0.00 0.24 0.05 0.00 0.00 0.80 0.00 0.79\n",
       "4 0.00 0.02 0.00 0.00 0.00 0.20 0.00 0.44"
      ]
     },
     "execution_count": 97,
     "metadata": {},
     "output_type": "execute_result"
    }
   ],
   "source": [
    "data = pd.DataFrame(data)\n",
    "data.head() #Here we can see that the scaling operation done so the values are in range 0 to 1"
   ]
  }
 ],
 "metadata": {
  "kernelspec": {
   "display_name": "Python 3 (ipykernel)",
   "language": "python",
   "name": "python3"
  },
  "language_info": {
   "codemirror_mode": {
    "name": "ipython",
    "version": 3
   },
   "file_extension": ".py",
   "mimetype": "text/x-python",
   "name": "python",
   "nbconvert_exporter": "python",
   "pygments_lexer": "ipython3",
   "version": "3.9.13"
  }
 },
 "nbformat": 4,
 "nbformat_minor": 5
}
